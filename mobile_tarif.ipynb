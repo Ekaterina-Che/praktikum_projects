{
 "cells": [
  {
   "cell_type": "markdown",
   "metadata": {},
   "source": [
    "# Определение перспективного тарифного плана"
   ]
  },
  {
   "cell_type": "markdown",
   "metadata": {
    "toc": true
   },
   "source": [
    "<h1>Содержание<span class=\"tocSkip\"></span></h1>\n",
    "<div class=\"toc\"><ul class=\"toc-item\"><li><span><a href=\"#Определение-перспективного-тарифа-для-телеком-компании\" data-toc-modified-id=\"Определение-перспективного-тарифа-для-телеком-компании-1\"><span class=\"toc-item-num\">1&nbsp;&nbsp;</span>Определение перспективного тарифа для телеком-компании</a></span><ul class=\"toc-item\"><li><span><a href=\"#Цель-исследования\" data-toc-modified-id=\"Цель-исследования-1.1\"><span class=\"toc-item-num\">1.1&nbsp;&nbsp;</span>Цель исследования</a></span></li><li><span><a href=\"#Исходные-данные\" data-toc-modified-id=\"Исходные-данные-1.2\"><span class=\"toc-item-num\">1.2&nbsp;&nbsp;</span>Исходные данные</a></span></li></ul></li><li><span><a href=\"#Изучение-данных-из-файла\" data-toc-modified-id=\"Изучение-данных-из-файла-2\"><span class=\"toc-item-num\">2&nbsp;&nbsp;</span>Изучение данных из файла</a></span></li><li><span><a href=\"#Предобработка-данных\" data-toc-modified-id=\"Предобработка-данных-3\"><span class=\"toc-item-num\">3&nbsp;&nbsp;</span>Предобработка данных</a></span><ul class=\"toc-item\"><li><span><a href=\"#типы-данных\" data-toc-modified-id=\"типы-данных-3.1\"><span class=\"toc-item-num\">3.1&nbsp;&nbsp;</span>типы данных</a></span></li></ul></li><li><span><a href=\"#Расчёты-и-добавление-результатов-в-таблицу\" data-toc-modified-id=\"Расчёты-и-добавление-результатов-в-таблицу-4\"><span class=\"toc-item-num\">4&nbsp;&nbsp;</span>Расчёты и добавление результатов в таблицу</a></span></li><li><span><a href=\"#Анализ-данных\" data-toc-modified-id=\"Анализ-данных-5\"><span class=\"toc-item-num\">5&nbsp;&nbsp;</span>Анализ данных</a></span></li><li><span><a href=\"#Проверка-гипотез\" data-toc-modified-id=\"Проверка-гипотез-6\"><span class=\"toc-item-num\">6&nbsp;&nbsp;</span>Проверка гипотез</a></span><ul class=\"toc-item\"><li><span><a href=\"#средняя-выручка-пользователей-тарифов-«Ультра»-и-«Смарт»-различаются\" data-toc-modified-id=\"средняя-выручка-пользователей-тарифов-«Ультра»-и-«Смарт»-различаются-6.1\"><span class=\"toc-item-num\">6.1&nbsp;&nbsp;</span>средняя выручка пользователей тарифов «Ультра» и «Смарт» различаются</a></span></li><li><span><a href=\"#средняя-выручка-пользователей-из-Москвы-отличается-от-выручки-пользователей-из-других-регионов.\" data-toc-modified-id=\"средняя-выручка-пользователей-из-Москвы-отличается-от-выручки-пользователей-из-других-регионов.-6.2\"><span class=\"toc-item-num\">6.2&nbsp;&nbsp;</span>средняя выручка пользователей из Москвы отличается от выручки пользователей из других регионов.</a></span></li></ul></li><li><span><a href=\"#Вывод\" data-toc-modified-id=\"Вывод-7\"><span class=\"toc-item-num\">7&nbsp;&nbsp;</span>Вывод</a></span></li></ul></div>"
   ]
  },
  {
   "cell_type": "markdown",
   "metadata": {},
   "source": [
    "\n",
    "### Цель исследования\n",
    "Провести анализ данных на небольшой выборке клиентов и проанализировать какой из двух тарифов лучше.\n",
    "### Исходные данные\n",
    "Данные 500 пользователей «Мегалайна»: кто они, откуда, каким тарифом пользуются, сколько звонков и сообщений каждый отправил за 2018 год. \n",
    "\n",
    "Таблица users (информация о пользователях):\n",
    "<ul> \n",
    "<li>user_id — уникальный идентификатор пользователя\n",
    "<li>first_name — имя пользователя\n",
    "<li>last_name — фамилия пользователя\n",
    "<li>age — возраст пользователя (годы)\n",
    "<li>reg_date — дата подключения тарифа (день, месяц, год)\n",
    "<li>churn_date — дата прекращения пользования тарифом (если значение пропущено, то тариф ещё действовал на момент выгрузки данных)\n",
    "<li>city — город проживания пользователя\n",
    "<li>tarif — название тарифного плана\n",
    "</ul>\n",
    "\n",
    "Таблица calls (информация о звонках):\n",
    "<ul>\n",
    "<li>id — уникальный номер звонка\n",
    "<li>call_date — дата звонка\n",
    "<li>duration — длительность звонка в минутах\n",
    "<li>user_id — идентификатор пользователя, сделавшего звонок\n",
    "</ul>\n",
    "\n",
    "Таблица messages (информация о сообщениях):\n",
    "<ul>\n",
    "<li>id — уникальный номер сообщения\n",
    "message_date — дата сообщения\n",
    "<li>user_id — идентификатор пользователя, отправившего сообщение\n",
    "</ul>\n",
    "Таблица internet (информация об интернет-сессиях):\n",
    "<ul>\n",
    "<li>id — уникальный номер сессии\n",
    "<li>mb_used — объём потраченного за сессию интернет-трафика (в мегабайтах)\n",
    "<li>session_date — дата интернет-сессии\n",
    "<li>user_id — идентификатор пользователя\n",
    "</ul>    \n",
    "\n",
    "Таблица tariffs (информация о тарифах):\n",
    "\n",
    "<ul>\n",
    "<li>tariff_name — название тарифа\n",
    "<li>rub_monthly_fee — ежемесячная абонентская плата в рублях\n",
    "<li>minutes_included — количество минут разговора в месяц, включённых в абонентскую плату\n",
    "<li>messages_included — количество сообщений в месяц, включённых в абонентскую плату\n",
    "<li>mb_per_month_included — объём интернет-трафика, включённого в абонентскую плату (в мегабайтах)\n",
    "<li>rub_per_minute — стоимость минуты разговора сверх тарифного пакета (например, если в тарифе 100 минут разговора в месяц, то со 101 минуты будет взиматься плата)\n",
    "<li>rub_per_message — стоимость отправки сообщения сверх тарифного пакета\n",
    "<li>rub_per_gb — стоимость дополнительного гигабайта интернет-трафика сверх тарифного пакета (1 гигабайт = 1024 мегабайта)"
   ]
  },
  {
   "cell_type": "markdown",
   "metadata": {},
   "source": [
    "## Изучение данных из файла"
   ]
  },
  {
   "cell_type": "code",
   "execution_count": 1,
   "metadata": {},
   "outputs": [],
   "source": [
    "import pandas as pd\n",
    "import numpy as np\n",
    "import matplotlib.pyplot as plt\n",
    "from scipy import stats as st\n",
    "\n"
   ]
  },
  {
   "cell_type": "code",
   "execution_count": 2,
   "metadata": {},
   "outputs": [],
   "source": [
    "# функция для просмотра общей информации о таблице\n",
    "def df_info(df):\n",
    "    df.info()\n",
    "    print('\\nПервичная статистика по данным\\n')\n",
    "    display(df.describe().T)\n",
    "    print('\\nДесять первых строк\\n')\n",
    "    display(df.head(10))\n",
    "    print('\\nКоличество пустых строк:', df.isna().sum())\n",
    "    print('\\nКоличество полных дубликатов:',sum(df.duplicated()))"
   ]
  },
  {
   "cell_type": "code",
   "execution_count": 3,
   "metadata": {},
   "outputs": [
    {
     "name": "stdout",
     "output_type": "stream",
     "text": [
      "<class 'pandas.core.frame.DataFrame'>\n",
      "RangeIndex: 500 entries, 0 to 499\n",
      "Data columns (total 8 columns):\n",
      " #   Column      Non-Null Count  Dtype \n",
      "---  ------      --------------  ----- \n",
      " 0   user_id     500 non-null    int64 \n",
      " 1   age         500 non-null    int64 \n",
      " 2   churn_date  38 non-null     object\n",
      " 3   city        500 non-null    object\n",
      " 4   first_name  500 non-null    object\n",
      " 5   last_name   500 non-null    object\n",
      " 6   reg_date    500 non-null    object\n",
      " 7   tariff      500 non-null    object\n",
      "dtypes: int64(2), object(6)\n",
      "memory usage: 31.4+ KB\n",
      "\n",
      "Первичная статистика по данным\n",
      "\n"
     ]
    },
    {
     "data": {
      "text/html": [
       "<div>\n",
       "<style scoped>\n",
       "    .dataframe tbody tr th:only-of-type {\n",
       "        vertical-align: middle;\n",
       "    }\n",
       "\n",
       "    .dataframe tbody tr th {\n",
       "        vertical-align: top;\n",
       "    }\n",
       "\n",
       "    .dataframe thead th {\n",
       "        text-align: right;\n",
       "    }\n",
       "</style>\n",
       "<table border=\"1\" class=\"dataframe\">\n",
       "  <thead>\n",
       "    <tr style=\"text-align: right;\">\n",
       "      <th></th>\n",
       "      <th>count</th>\n",
       "      <th>mean</th>\n",
       "      <th>std</th>\n",
       "      <th>min</th>\n",
       "      <th>25%</th>\n",
       "      <th>50%</th>\n",
       "      <th>75%</th>\n",
       "      <th>max</th>\n",
       "    </tr>\n",
       "  </thead>\n",
       "  <tbody>\n",
       "    <tr>\n",
       "      <th>user_id</th>\n",
       "      <td>500.0</td>\n",
       "      <td>1249.500</td>\n",
       "      <td>144.481833</td>\n",
       "      <td>1000.0</td>\n",
       "      <td>1124.75</td>\n",
       "      <td>1249.5</td>\n",
       "      <td>1374.25</td>\n",
       "      <td>1499.0</td>\n",
       "    </tr>\n",
       "    <tr>\n",
       "      <th>age</th>\n",
       "      <td>500.0</td>\n",
       "      <td>46.588</td>\n",
       "      <td>16.667630</td>\n",
       "      <td>18.0</td>\n",
       "      <td>32.00</td>\n",
       "      <td>46.0</td>\n",
       "      <td>62.00</td>\n",
       "      <td>75.0</td>\n",
       "    </tr>\n",
       "  </tbody>\n",
       "</table>\n",
       "</div>"
      ],
      "text/plain": [
       "         count      mean         std     min      25%     50%      75%     max\n",
       "user_id  500.0  1249.500  144.481833  1000.0  1124.75  1249.5  1374.25  1499.0\n",
       "age      500.0    46.588   16.667630    18.0    32.00    46.0    62.00    75.0"
      ]
     },
     "metadata": {},
     "output_type": "display_data"
    },
    {
     "name": "stdout",
     "output_type": "stream",
     "text": [
      "\n",
      "Десять первых строк\n",
      "\n"
     ]
    },
    {
     "data": {
      "text/html": [
       "<div>\n",
       "<style scoped>\n",
       "    .dataframe tbody tr th:only-of-type {\n",
       "        vertical-align: middle;\n",
       "    }\n",
       "\n",
       "    .dataframe tbody tr th {\n",
       "        vertical-align: top;\n",
       "    }\n",
       "\n",
       "    .dataframe thead th {\n",
       "        text-align: right;\n",
       "    }\n",
       "</style>\n",
       "<table border=\"1\" class=\"dataframe\">\n",
       "  <thead>\n",
       "    <tr style=\"text-align: right;\">\n",
       "      <th></th>\n",
       "      <th>user_id</th>\n",
       "      <th>age</th>\n",
       "      <th>churn_date</th>\n",
       "      <th>city</th>\n",
       "      <th>first_name</th>\n",
       "      <th>last_name</th>\n",
       "      <th>reg_date</th>\n",
       "      <th>tariff</th>\n",
       "    </tr>\n",
       "  </thead>\n",
       "  <tbody>\n",
       "    <tr>\n",
       "      <th>0</th>\n",
       "      <td>1000</td>\n",
       "      <td>52</td>\n",
       "      <td>NaN</td>\n",
       "      <td>Краснодар</td>\n",
       "      <td>Рафаил</td>\n",
       "      <td>Верещагин</td>\n",
       "      <td>2018-05-25</td>\n",
       "      <td>ultra</td>\n",
       "    </tr>\n",
       "    <tr>\n",
       "      <th>1</th>\n",
       "      <td>1001</td>\n",
       "      <td>41</td>\n",
       "      <td>NaN</td>\n",
       "      <td>Москва</td>\n",
       "      <td>Иван</td>\n",
       "      <td>Ежов</td>\n",
       "      <td>2018-11-01</td>\n",
       "      <td>smart</td>\n",
       "    </tr>\n",
       "    <tr>\n",
       "      <th>2</th>\n",
       "      <td>1002</td>\n",
       "      <td>59</td>\n",
       "      <td>NaN</td>\n",
       "      <td>Стерлитамак</td>\n",
       "      <td>Евгений</td>\n",
       "      <td>Абрамович</td>\n",
       "      <td>2018-06-17</td>\n",
       "      <td>smart</td>\n",
       "    </tr>\n",
       "    <tr>\n",
       "      <th>3</th>\n",
       "      <td>1003</td>\n",
       "      <td>23</td>\n",
       "      <td>NaN</td>\n",
       "      <td>Москва</td>\n",
       "      <td>Белла</td>\n",
       "      <td>Белякова</td>\n",
       "      <td>2018-08-17</td>\n",
       "      <td>ultra</td>\n",
       "    </tr>\n",
       "    <tr>\n",
       "      <th>4</th>\n",
       "      <td>1004</td>\n",
       "      <td>68</td>\n",
       "      <td>NaN</td>\n",
       "      <td>Новокузнецк</td>\n",
       "      <td>Татьяна</td>\n",
       "      <td>Авдеенко</td>\n",
       "      <td>2018-05-14</td>\n",
       "      <td>ultra</td>\n",
       "    </tr>\n",
       "    <tr>\n",
       "      <th>5</th>\n",
       "      <td>1005</td>\n",
       "      <td>67</td>\n",
       "      <td>NaN</td>\n",
       "      <td>Набережные Челны</td>\n",
       "      <td>Афанасий</td>\n",
       "      <td>Горлов</td>\n",
       "      <td>2018-01-25</td>\n",
       "      <td>smart</td>\n",
       "    </tr>\n",
       "    <tr>\n",
       "      <th>6</th>\n",
       "      <td>1006</td>\n",
       "      <td>21</td>\n",
       "      <td>NaN</td>\n",
       "      <td>Ульяновск</td>\n",
       "      <td>Леонид</td>\n",
       "      <td>Ермолаев</td>\n",
       "      <td>2018-02-26</td>\n",
       "      <td>smart</td>\n",
       "    </tr>\n",
       "    <tr>\n",
       "      <th>7</th>\n",
       "      <td>1007</td>\n",
       "      <td>65</td>\n",
       "      <td>NaN</td>\n",
       "      <td>Москва</td>\n",
       "      <td>Юна</td>\n",
       "      <td>Березина</td>\n",
       "      <td>2018-04-19</td>\n",
       "      <td>smart</td>\n",
       "    </tr>\n",
       "    <tr>\n",
       "      <th>8</th>\n",
       "      <td>1008</td>\n",
       "      <td>63</td>\n",
       "      <td>NaN</td>\n",
       "      <td>Челябинск</td>\n",
       "      <td>Рустэм</td>\n",
       "      <td>Пономарёв</td>\n",
       "      <td>2018-12-19</td>\n",
       "      <td>smart</td>\n",
       "    </tr>\n",
       "    <tr>\n",
       "      <th>9</th>\n",
       "      <td>1009</td>\n",
       "      <td>24</td>\n",
       "      <td>NaN</td>\n",
       "      <td>Пермь</td>\n",
       "      <td>Василиса</td>\n",
       "      <td>Блинова</td>\n",
       "      <td>2018-03-22</td>\n",
       "      <td>smart</td>\n",
       "    </tr>\n",
       "  </tbody>\n",
       "</table>\n",
       "</div>"
      ],
      "text/plain": [
       "   user_id  age churn_date              city first_name  last_name  \\\n",
       "0     1000   52        NaN         Краснодар     Рафаил  Верещагин   \n",
       "1     1001   41        NaN            Москва       Иван       Ежов   \n",
       "2     1002   59        NaN       Стерлитамак    Евгений  Абрамович   \n",
       "3     1003   23        NaN            Москва      Белла   Белякова   \n",
       "4     1004   68        NaN       Новокузнецк    Татьяна   Авдеенко   \n",
       "5     1005   67        NaN  Набережные Челны   Афанасий     Горлов   \n",
       "6     1006   21        NaN         Ульяновск     Леонид   Ермолаев   \n",
       "7     1007   65        NaN            Москва        Юна   Березина   \n",
       "8     1008   63        NaN         Челябинск     Рустэм  Пономарёв   \n",
       "9     1009   24        NaN             Пермь   Василиса    Блинова   \n",
       "\n",
       "     reg_date tariff  \n",
       "0  2018-05-25  ultra  \n",
       "1  2018-11-01  smart  \n",
       "2  2018-06-17  smart  \n",
       "3  2018-08-17  ultra  \n",
       "4  2018-05-14  ultra  \n",
       "5  2018-01-25  smart  \n",
       "6  2018-02-26  smart  \n",
       "7  2018-04-19  smart  \n",
       "8  2018-12-19  smart  \n",
       "9  2018-03-22  smart  "
      ]
     },
     "metadata": {},
     "output_type": "display_data"
    },
    {
     "name": "stdout",
     "output_type": "stream",
     "text": [
      "\n",
      "Количество пустых строк: user_id         0\n",
      "age             0\n",
      "churn_date    462\n",
      "city            0\n",
      "first_name      0\n",
      "last_name       0\n",
      "reg_date        0\n",
      "tariff          0\n",
      "dtype: int64\n",
      "\n",
      "Количество полных дубликатов: 0\n"
     ]
    }
   ],
   "source": [
    "data_users = pd.read_csv('users.csv')\n",
    "df_info(data_users)\n"
   ]
  },
  {
   "cell_type": "code",
   "execution_count": 4,
   "metadata": {},
   "outputs": [
    {
     "data": {
      "text/plain": [
       "first_name  last_name \n",
       "Авксентий   Алексеичев    1\n",
       "Милица      Меркулова     1\n",
       "Нателла     Бородина      1\n",
       "Наталья     Жарова        1\n",
       "Наида       Боброва       1\n",
       "                         ..\n",
       "Дана        Меркулова     1\n",
       "            Астапенко     1\n",
       "Дайна       Березина      1\n",
       "Григорий    Давыдов       1\n",
       "Яна         Седова        1\n",
       "Name: user_id, Length: 500, dtype: int64"
      ]
     },
     "execution_count": 4,
     "metadata": {},
     "output_type": "execute_result"
    }
   ],
   "source": [
    "# проверим есть ли полные тёзки с таблице с пользователями\n",
    "data_users.groupby(['first_name', 'last_name'])['user_id'].count().sort_values(ascending=False)"
   ]
  },
  {
   "cell_type": "code",
   "execution_count": 5,
   "metadata": {},
   "outputs": [
    {
     "data": {
      "text/plain": [
       "Москва             99\n",
       "Санкт-Петербург    39\n",
       "Новосибирск        16\n",
       "Омск               14\n",
       "Казань             14\n",
       "                   ..\n",
       "Архангельск         1\n",
       "Иваново             1\n",
       "Нижневартовск       1\n",
       "Химки               1\n",
       "Подольск            1\n",
       "Name: city, Length: 76, dtype: int64"
      ]
     },
     "execution_count": 5,
     "metadata": {},
     "output_type": "execute_result"
    }
   ],
   "source": [
    "data_users['city'].value_counts()"
   ]
  },
  {
   "cell_type": "markdown",
   "metadata": {},
   "source": [
    "в таблице 500 пользователей, возрастом от 18-75. Дубликатов нет, значение NaN в churn_date значит, что тариф ещё действовал на момент выгрузки данных. полных тёзок нет. .пользователи из 76 городов России"
   ]
  },
  {
   "cell_type": "code",
   "execution_count": 6,
   "metadata": {},
   "outputs": [
    {
     "name": "stdout",
     "output_type": "stream",
     "text": [
      "<class 'pandas.core.frame.DataFrame'>\n",
      "RangeIndex: 202607 entries, 0 to 202606\n",
      "Data columns (total 4 columns):\n",
      " #   Column     Non-Null Count   Dtype  \n",
      "---  ------     --------------   -----  \n",
      " 0   id         202607 non-null  object \n",
      " 1   call_date  202607 non-null  object \n",
      " 2   duration   202607 non-null  float64\n",
      " 3   user_id    202607 non-null  int64  \n",
      "dtypes: float64(1), int64(1), object(2)\n",
      "memory usage: 6.2+ MB\n",
      "\n",
      "Первичная статистика по данным\n",
      "\n"
     ]
    },
    {
     "data": {
      "text/html": [
       "<div>\n",
       "<style scoped>\n",
       "    .dataframe tbody tr th:only-of-type {\n",
       "        vertical-align: middle;\n",
       "    }\n",
       "\n",
       "    .dataframe tbody tr th {\n",
       "        vertical-align: top;\n",
       "    }\n",
       "\n",
       "    .dataframe thead th {\n",
       "        text-align: right;\n",
       "    }\n",
       "</style>\n",
       "<table border=\"1\" class=\"dataframe\">\n",
       "  <thead>\n",
       "    <tr style=\"text-align: right;\">\n",
       "      <th></th>\n",
       "      <th>count</th>\n",
       "      <th>mean</th>\n",
       "      <th>std</th>\n",
       "      <th>min</th>\n",
       "      <th>25%</th>\n",
       "      <th>50%</th>\n",
       "      <th>75%</th>\n",
       "      <th>max</th>\n",
       "    </tr>\n",
       "  </thead>\n",
       "  <tbody>\n",
       "    <tr>\n",
       "      <th>duration</th>\n",
       "      <td>202607.0</td>\n",
       "      <td>6.755887</td>\n",
       "      <td>5.843365</td>\n",
       "      <td>0.0</td>\n",
       "      <td>1.3</td>\n",
       "      <td>6.0</td>\n",
       "      <td>10.7</td>\n",
       "      <td>38.0</td>\n",
       "    </tr>\n",
       "    <tr>\n",
       "      <th>user_id</th>\n",
       "      <td>202607.0</td>\n",
       "      <td>1253.940619</td>\n",
       "      <td>144.722751</td>\n",
       "      <td>1000.0</td>\n",
       "      <td>1126.0</td>\n",
       "      <td>1260.0</td>\n",
       "      <td>1379.0</td>\n",
       "      <td>1499.0</td>\n",
       "    </tr>\n",
       "  </tbody>\n",
       "</table>\n",
       "</div>"
      ],
      "text/plain": [
       "             count         mean         std     min     25%     50%     75%  \\\n",
       "duration  202607.0     6.755887    5.843365     0.0     1.3     6.0    10.7   \n",
       "user_id   202607.0  1253.940619  144.722751  1000.0  1126.0  1260.0  1379.0   \n",
       "\n",
       "             max  \n",
       "duration    38.0  \n",
       "user_id   1499.0  "
      ]
     },
     "metadata": {},
     "output_type": "display_data"
    },
    {
     "name": "stdout",
     "output_type": "stream",
     "text": [
      "\n",
      "Десять первых строк\n",
      "\n"
     ]
    },
    {
     "data": {
      "text/html": [
       "<div>\n",
       "<style scoped>\n",
       "    .dataframe tbody tr th:only-of-type {\n",
       "        vertical-align: middle;\n",
       "    }\n",
       "\n",
       "    .dataframe tbody tr th {\n",
       "        vertical-align: top;\n",
       "    }\n",
       "\n",
       "    .dataframe thead th {\n",
       "        text-align: right;\n",
       "    }\n",
       "</style>\n",
       "<table border=\"1\" class=\"dataframe\">\n",
       "  <thead>\n",
       "    <tr style=\"text-align: right;\">\n",
       "      <th></th>\n",
       "      <th>id</th>\n",
       "      <th>call_date</th>\n",
       "      <th>duration</th>\n",
       "      <th>user_id</th>\n",
       "    </tr>\n",
       "  </thead>\n",
       "  <tbody>\n",
       "    <tr>\n",
       "      <th>0</th>\n",
       "      <td>1000_0</td>\n",
       "      <td>2018-07-25</td>\n",
       "      <td>0.00</td>\n",
       "      <td>1000</td>\n",
       "    </tr>\n",
       "    <tr>\n",
       "      <th>1</th>\n",
       "      <td>1000_1</td>\n",
       "      <td>2018-08-17</td>\n",
       "      <td>0.00</td>\n",
       "      <td>1000</td>\n",
       "    </tr>\n",
       "    <tr>\n",
       "      <th>2</th>\n",
       "      <td>1000_2</td>\n",
       "      <td>2018-06-11</td>\n",
       "      <td>2.85</td>\n",
       "      <td>1000</td>\n",
       "    </tr>\n",
       "    <tr>\n",
       "      <th>3</th>\n",
       "      <td>1000_3</td>\n",
       "      <td>2018-09-21</td>\n",
       "      <td>13.80</td>\n",
       "      <td>1000</td>\n",
       "    </tr>\n",
       "    <tr>\n",
       "      <th>4</th>\n",
       "      <td>1000_4</td>\n",
       "      <td>2018-12-15</td>\n",
       "      <td>5.18</td>\n",
       "      <td>1000</td>\n",
       "    </tr>\n",
       "    <tr>\n",
       "      <th>5</th>\n",
       "      <td>1000_5</td>\n",
       "      <td>2018-11-02</td>\n",
       "      <td>0.00</td>\n",
       "      <td>1000</td>\n",
       "    </tr>\n",
       "    <tr>\n",
       "      <th>6</th>\n",
       "      <td>1000_6</td>\n",
       "      <td>2018-10-18</td>\n",
       "      <td>0.00</td>\n",
       "      <td>1000</td>\n",
       "    </tr>\n",
       "    <tr>\n",
       "      <th>7</th>\n",
       "      <td>1000_7</td>\n",
       "      <td>2018-08-22</td>\n",
       "      <td>18.31</td>\n",
       "      <td>1000</td>\n",
       "    </tr>\n",
       "    <tr>\n",
       "      <th>8</th>\n",
       "      <td>1000_8</td>\n",
       "      <td>2018-09-15</td>\n",
       "      <td>18.44</td>\n",
       "      <td>1000</td>\n",
       "    </tr>\n",
       "    <tr>\n",
       "      <th>9</th>\n",
       "      <td>1000_9</td>\n",
       "      <td>2018-08-15</td>\n",
       "      <td>0.00</td>\n",
       "      <td>1000</td>\n",
       "    </tr>\n",
       "  </tbody>\n",
       "</table>\n",
       "</div>"
      ],
      "text/plain": [
       "       id   call_date  duration  user_id\n",
       "0  1000_0  2018-07-25      0.00     1000\n",
       "1  1000_1  2018-08-17      0.00     1000\n",
       "2  1000_2  2018-06-11      2.85     1000\n",
       "3  1000_3  2018-09-21     13.80     1000\n",
       "4  1000_4  2018-12-15      5.18     1000\n",
       "5  1000_5  2018-11-02      0.00     1000\n",
       "6  1000_6  2018-10-18      0.00     1000\n",
       "7  1000_7  2018-08-22     18.31     1000\n",
       "8  1000_8  2018-09-15     18.44     1000\n",
       "9  1000_9  2018-08-15      0.00     1000"
      ]
     },
     "metadata": {},
     "output_type": "display_data"
    },
    {
     "name": "stdout",
     "output_type": "stream",
     "text": [
      "\n",
      "Количество пустых строк: id           0\n",
      "call_date    0\n",
      "duration     0\n",
      "user_id      0\n",
      "dtype: int64\n",
      "\n",
      "Количество полных дубликатов: 0\n"
     ]
    }
   ],
   "source": [
    "data_calls = pd.read_csv('calls.csv')\n",
    "df_info(data_calls)"
   ]
  },
  {
   "cell_type": "markdown",
   "metadata": {},
   "source": [
    "В data_calls 202607 строк с данными о звонках. Средняя продолжительность звонка - 6,75 мин."
   ]
  },
  {
   "cell_type": "code",
   "execution_count": 7,
   "metadata": {},
   "outputs": [
    {
     "name": "stdout",
     "output_type": "stream",
     "text": [
      "<class 'pandas.core.frame.DataFrame'>\n",
      "RangeIndex: 149396 entries, 0 to 149395\n",
      "Data columns (total 5 columns):\n",
      " #   Column        Non-Null Count   Dtype  \n",
      "---  ------        --------------   -----  \n",
      " 0   Unnamed: 0    149396 non-null  int64  \n",
      " 1   id            149396 non-null  object \n",
      " 2   mb_used       149396 non-null  float64\n",
      " 3   session_date  149396 non-null  object \n",
      " 4   user_id       149396 non-null  int64  \n",
      "dtypes: float64(1), int64(2), object(2)\n",
      "memory usage: 5.7+ MB\n",
      "\n",
      "Первичная статистика по данным\n",
      "\n"
     ]
    },
    {
     "data": {
      "text/html": [
       "<div>\n",
       "<style scoped>\n",
       "    .dataframe tbody tr th:only-of-type {\n",
       "        vertical-align: middle;\n",
       "    }\n",
       "\n",
       "    .dataframe tbody tr th {\n",
       "        vertical-align: top;\n",
       "    }\n",
       "\n",
       "    .dataframe thead th {\n",
       "        text-align: right;\n",
       "    }\n",
       "</style>\n",
       "<table border=\"1\" class=\"dataframe\">\n",
       "  <thead>\n",
       "    <tr style=\"text-align: right;\">\n",
       "      <th></th>\n",
       "      <th>count</th>\n",
       "      <th>mean</th>\n",
       "      <th>std</th>\n",
       "      <th>min</th>\n",
       "      <th>25%</th>\n",
       "      <th>50%</th>\n",
       "      <th>75%</th>\n",
       "      <th>max</th>\n",
       "    </tr>\n",
       "  </thead>\n",
       "  <tbody>\n",
       "    <tr>\n",
       "      <th>Unnamed: 0</th>\n",
       "      <td>149396.0</td>\n",
       "      <td>74697.500000</td>\n",
       "      <td>43127.054745</td>\n",
       "      <td>0.0</td>\n",
       "      <td>37348.7500</td>\n",
       "      <td>74697.500</td>\n",
       "      <td>112046.2500</td>\n",
       "      <td>149395.00</td>\n",
       "    </tr>\n",
       "    <tr>\n",
       "      <th>mb_used</th>\n",
       "      <td>149396.0</td>\n",
       "      <td>370.192426</td>\n",
       "      <td>278.300951</td>\n",
       "      <td>0.0</td>\n",
       "      <td>138.1875</td>\n",
       "      <td>348.015</td>\n",
       "      <td>559.5525</td>\n",
       "      <td>1724.83</td>\n",
       "    </tr>\n",
       "    <tr>\n",
       "      <th>user_id</th>\n",
       "      <td>149396.0</td>\n",
       "      <td>1252.099842</td>\n",
       "      <td>144.050823</td>\n",
       "      <td>1000.0</td>\n",
       "      <td>1130.0000</td>\n",
       "      <td>1251.000</td>\n",
       "      <td>1380.0000</td>\n",
       "      <td>1499.00</td>\n",
       "    </tr>\n",
       "  </tbody>\n",
       "</table>\n",
       "</div>"
      ],
      "text/plain": [
       "               count          mean           std     min         25%  \\\n",
       "Unnamed: 0  149396.0  74697.500000  43127.054745     0.0  37348.7500   \n",
       "mb_used     149396.0    370.192426    278.300951     0.0    138.1875   \n",
       "user_id     149396.0   1252.099842    144.050823  1000.0   1130.0000   \n",
       "\n",
       "                  50%          75%        max  \n",
       "Unnamed: 0  74697.500  112046.2500  149395.00  \n",
       "mb_used       348.015     559.5525    1724.83  \n",
       "user_id      1251.000    1380.0000    1499.00  "
      ]
     },
     "metadata": {},
     "output_type": "display_data"
    },
    {
     "name": "stdout",
     "output_type": "stream",
     "text": [
      "\n",
      "Десять первых строк\n",
      "\n"
     ]
    },
    {
     "data": {
      "text/html": [
       "<div>\n",
       "<style scoped>\n",
       "    .dataframe tbody tr th:only-of-type {\n",
       "        vertical-align: middle;\n",
       "    }\n",
       "\n",
       "    .dataframe tbody tr th {\n",
       "        vertical-align: top;\n",
       "    }\n",
       "\n",
       "    .dataframe thead th {\n",
       "        text-align: right;\n",
       "    }\n",
       "</style>\n",
       "<table border=\"1\" class=\"dataframe\">\n",
       "  <thead>\n",
       "    <tr style=\"text-align: right;\">\n",
       "      <th></th>\n",
       "      <th>Unnamed: 0</th>\n",
       "      <th>id</th>\n",
       "      <th>mb_used</th>\n",
       "      <th>session_date</th>\n",
       "      <th>user_id</th>\n",
       "    </tr>\n",
       "  </thead>\n",
       "  <tbody>\n",
       "    <tr>\n",
       "      <th>0</th>\n",
       "      <td>0</td>\n",
       "      <td>1000_0</td>\n",
       "      <td>112.95</td>\n",
       "      <td>2018-11-25</td>\n",
       "      <td>1000</td>\n",
       "    </tr>\n",
       "    <tr>\n",
       "      <th>1</th>\n",
       "      <td>1</td>\n",
       "      <td>1000_1</td>\n",
       "      <td>1052.81</td>\n",
       "      <td>2018-09-07</td>\n",
       "      <td>1000</td>\n",
       "    </tr>\n",
       "    <tr>\n",
       "      <th>2</th>\n",
       "      <td>2</td>\n",
       "      <td>1000_2</td>\n",
       "      <td>1197.26</td>\n",
       "      <td>2018-06-25</td>\n",
       "      <td>1000</td>\n",
       "    </tr>\n",
       "    <tr>\n",
       "      <th>3</th>\n",
       "      <td>3</td>\n",
       "      <td>1000_3</td>\n",
       "      <td>550.27</td>\n",
       "      <td>2018-08-22</td>\n",
       "      <td>1000</td>\n",
       "    </tr>\n",
       "    <tr>\n",
       "      <th>4</th>\n",
       "      <td>4</td>\n",
       "      <td>1000_4</td>\n",
       "      <td>302.56</td>\n",
       "      <td>2018-09-24</td>\n",
       "      <td>1000</td>\n",
       "    </tr>\n",
       "    <tr>\n",
       "      <th>5</th>\n",
       "      <td>5</td>\n",
       "      <td>1000_5</td>\n",
       "      <td>399.97</td>\n",
       "      <td>2018-10-02</td>\n",
       "      <td>1000</td>\n",
       "    </tr>\n",
       "    <tr>\n",
       "      <th>6</th>\n",
       "      <td>6</td>\n",
       "      <td>1000_6</td>\n",
       "      <td>540.08</td>\n",
       "      <td>2018-09-07</td>\n",
       "      <td>1000</td>\n",
       "    </tr>\n",
       "    <tr>\n",
       "      <th>7</th>\n",
       "      <td>7</td>\n",
       "      <td>1000_7</td>\n",
       "      <td>415.70</td>\n",
       "      <td>2018-07-11</td>\n",
       "      <td>1000</td>\n",
       "    </tr>\n",
       "    <tr>\n",
       "      <th>8</th>\n",
       "      <td>8</td>\n",
       "      <td>1000_8</td>\n",
       "      <td>505.40</td>\n",
       "      <td>2018-10-08</td>\n",
       "      <td>1000</td>\n",
       "    </tr>\n",
       "    <tr>\n",
       "      <th>9</th>\n",
       "      <td>9</td>\n",
       "      <td>1000_9</td>\n",
       "      <td>345.54</td>\n",
       "      <td>2018-09-03</td>\n",
       "      <td>1000</td>\n",
       "    </tr>\n",
       "  </tbody>\n",
       "</table>\n",
       "</div>"
      ],
      "text/plain": [
       "   Unnamed: 0      id  mb_used session_date  user_id\n",
       "0           0  1000_0   112.95   2018-11-25     1000\n",
       "1           1  1000_1  1052.81   2018-09-07     1000\n",
       "2           2  1000_2  1197.26   2018-06-25     1000\n",
       "3           3  1000_3   550.27   2018-08-22     1000\n",
       "4           4  1000_4   302.56   2018-09-24     1000\n",
       "5           5  1000_5   399.97   2018-10-02     1000\n",
       "6           6  1000_6   540.08   2018-09-07     1000\n",
       "7           7  1000_7   415.70   2018-07-11     1000\n",
       "8           8  1000_8   505.40   2018-10-08     1000\n",
       "9           9  1000_9   345.54   2018-09-03     1000"
      ]
     },
     "metadata": {},
     "output_type": "display_data"
    },
    {
     "name": "stdout",
     "output_type": "stream",
     "text": [
      "\n",
      "Количество пустых строк: Unnamed: 0      0\n",
      "id              0\n",
      "mb_used         0\n",
      "session_date    0\n",
      "user_id         0\n",
      "dtype: int64\n",
      "\n",
      "Количество полных дубликатов: 0\n"
     ]
    }
   ],
   "source": [
    "data_internet = pd.read_csv('internet.csv')\n",
    "df_info(data_internet)\n"
   ]
  },
  {
   "cell_type": "code",
   "execution_count": 8,
   "metadata": {},
   "outputs": [
    {
     "name": "stdout",
     "output_type": "stream",
     "text": [
      "<class 'pandas.core.frame.DataFrame'>\n",
      "RangeIndex: 123036 entries, 0 to 123035\n",
      "Data columns (total 3 columns):\n",
      " #   Column        Non-Null Count   Dtype \n",
      "---  ------        --------------   ----- \n",
      " 0   id            123036 non-null  object\n",
      " 1   message_date  123036 non-null  object\n",
      " 2   user_id       123036 non-null  int64 \n",
      "dtypes: int64(1), object(2)\n",
      "memory usage: 2.8+ MB\n",
      "\n",
      "Первичная статистика по данным\n",
      "\n"
     ]
    },
    {
     "data": {
      "text/html": [
       "<div>\n",
       "<style scoped>\n",
       "    .dataframe tbody tr th:only-of-type {\n",
       "        vertical-align: middle;\n",
       "    }\n",
       "\n",
       "    .dataframe tbody tr th {\n",
       "        vertical-align: top;\n",
       "    }\n",
       "\n",
       "    .dataframe thead th {\n",
       "        text-align: right;\n",
       "    }\n",
       "</style>\n",
       "<table border=\"1\" class=\"dataframe\">\n",
       "  <thead>\n",
       "    <tr style=\"text-align: right;\">\n",
       "      <th></th>\n",
       "      <th>count</th>\n",
       "      <th>mean</th>\n",
       "      <th>std</th>\n",
       "      <th>min</th>\n",
       "      <th>25%</th>\n",
       "      <th>50%</th>\n",
       "      <th>75%</th>\n",
       "      <th>max</th>\n",
       "    </tr>\n",
       "  </thead>\n",
       "  <tbody>\n",
       "    <tr>\n",
       "      <th>user_id</th>\n",
       "      <td>123036.0</td>\n",
       "      <td>1256.98941</td>\n",
       "      <td>143.523967</td>\n",
       "      <td>1000.0</td>\n",
       "      <td>1134.0</td>\n",
       "      <td>1271.0</td>\n",
       "      <td>1381.0</td>\n",
       "      <td>1499.0</td>\n",
       "    </tr>\n",
       "  </tbody>\n",
       "</table>\n",
       "</div>"
      ],
      "text/plain": [
       "            count        mean         std     min     25%     50%     75%  \\\n",
       "user_id  123036.0  1256.98941  143.523967  1000.0  1134.0  1271.0  1381.0   \n",
       "\n",
       "            max  \n",
       "user_id  1499.0  "
      ]
     },
     "metadata": {},
     "output_type": "display_data"
    },
    {
     "name": "stdout",
     "output_type": "stream",
     "text": [
      "\n",
      "Десять первых строк\n",
      "\n"
     ]
    },
    {
     "data": {
      "text/html": [
       "<div>\n",
       "<style scoped>\n",
       "    .dataframe tbody tr th:only-of-type {\n",
       "        vertical-align: middle;\n",
       "    }\n",
       "\n",
       "    .dataframe tbody tr th {\n",
       "        vertical-align: top;\n",
       "    }\n",
       "\n",
       "    .dataframe thead th {\n",
       "        text-align: right;\n",
       "    }\n",
       "</style>\n",
       "<table border=\"1\" class=\"dataframe\">\n",
       "  <thead>\n",
       "    <tr style=\"text-align: right;\">\n",
       "      <th></th>\n",
       "      <th>id</th>\n",
       "      <th>message_date</th>\n",
       "      <th>user_id</th>\n",
       "    </tr>\n",
       "  </thead>\n",
       "  <tbody>\n",
       "    <tr>\n",
       "      <th>0</th>\n",
       "      <td>1000_0</td>\n",
       "      <td>2018-06-27</td>\n",
       "      <td>1000</td>\n",
       "    </tr>\n",
       "    <tr>\n",
       "      <th>1</th>\n",
       "      <td>1000_1</td>\n",
       "      <td>2018-10-08</td>\n",
       "      <td>1000</td>\n",
       "    </tr>\n",
       "    <tr>\n",
       "      <th>2</th>\n",
       "      <td>1000_2</td>\n",
       "      <td>2018-08-04</td>\n",
       "      <td>1000</td>\n",
       "    </tr>\n",
       "    <tr>\n",
       "      <th>3</th>\n",
       "      <td>1000_3</td>\n",
       "      <td>2018-06-16</td>\n",
       "      <td>1000</td>\n",
       "    </tr>\n",
       "    <tr>\n",
       "      <th>4</th>\n",
       "      <td>1000_4</td>\n",
       "      <td>2018-12-05</td>\n",
       "      <td>1000</td>\n",
       "    </tr>\n",
       "    <tr>\n",
       "      <th>5</th>\n",
       "      <td>1000_5</td>\n",
       "      <td>2018-06-20</td>\n",
       "      <td>1000</td>\n",
       "    </tr>\n",
       "    <tr>\n",
       "      <th>6</th>\n",
       "      <td>1000_6</td>\n",
       "      <td>2018-11-19</td>\n",
       "      <td>1000</td>\n",
       "    </tr>\n",
       "    <tr>\n",
       "      <th>7</th>\n",
       "      <td>1000_7</td>\n",
       "      <td>2018-10-29</td>\n",
       "      <td>1000</td>\n",
       "    </tr>\n",
       "    <tr>\n",
       "      <th>8</th>\n",
       "      <td>1000_8</td>\n",
       "      <td>2018-06-25</td>\n",
       "      <td>1000</td>\n",
       "    </tr>\n",
       "    <tr>\n",
       "      <th>9</th>\n",
       "      <td>1000_9</td>\n",
       "      <td>2018-12-18</td>\n",
       "      <td>1000</td>\n",
       "    </tr>\n",
       "  </tbody>\n",
       "</table>\n",
       "</div>"
      ],
      "text/plain": [
       "       id message_date  user_id\n",
       "0  1000_0   2018-06-27     1000\n",
       "1  1000_1   2018-10-08     1000\n",
       "2  1000_2   2018-08-04     1000\n",
       "3  1000_3   2018-06-16     1000\n",
       "4  1000_4   2018-12-05     1000\n",
       "5  1000_5   2018-06-20     1000\n",
       "6  1000_6   2018-11-19     1000\n",
       "7  1000_7   2018-10-29     1000\n",
       "8  1000_8   2018-06-25     1000\n",
       "9  1000_9   2018-12-18     1000"
      ]
     },
     "metadata": {},
     "output_type": "display_data"
    },
    {
     "name": "stdout",
     "output_type": "stream",
     "text": [
      "\n",
      "Количество пустых строк: id              0\n",
      "message_date    0\n",
      "user_id         0\n",
      "dtype: int64\n",
      "\n",
      "Количество полных дубликатов: 0\n"
     ]
    }
   ],
   "source": [
    "data_messages = pd.read_csv('messages.csv')\n",
    "df_info(data_messages)\n"
   ]
  },
  {
   "cell_type": "code",
   "execution_count": 9,
   "metadata": {},
   "outputs": [
    {
     "name": "stdout",
     "output_type": "stream",
     "text": [
      "<class 'pandas.core.frame.DataFrame'>\n",
      "RangeIndex: 2 entries, 0 to 1\n",
      "Data columns (total 8 columns):\n",
      " #   Column                 Non-Null Count  Dtype \n",
      "---  ------                 --------------  ----- \n",
      " 0   messages_included      2 non-null      int64 \n",
      " 1   mb_per_month_included  2 non-null      int64 \n",
      " 2   minutes_included       2 non-null      int64 \n",
      " 3   rub_monthly_fee        2 non-null      int64 \n",
      " 4   rub_per_gb             2 non-null      int64 \n",
      " 5   rub_per_message        2 non-null      int64 \n",
      " 6   rub_per_minute         2 non-null      int64 \n",
      " 7   tariff_name            2 non-null      object\n",
      "dtypes: int64(7), object(1)\n",
      "memory usage: 256.0+ bytes\n",
      "\n",
      "Первичная статистика по данным\n",
      "\n"
     ]
    },
    {
     "data": {
      "text/html": [
       "<div>\n",
       "<style scoped>\n",
       "    .dataframe tbody tr th:only-of-type {\n",
       "        vertical-align: middle;\n",
       "    }\n",
       "\n",
       "    .dataframe tbody tr th {\n",
       "        vertical-align: top;\n",
       "    }\n",
       "\n",
       "    .dataframe thead th {\n",
       "        text-align: right;\n",
       "    }\n",
       "</style>\n",
       "<table border=\"1\" class=\"dataframe\">\n",
       "  <thead>\n",
       "    <tr style=\"text-align: right;\">\n",
       "      <th></th>\n",
       "      <th>count</th>\n",
       "      <th>mean</th>\n",
       "      <th>std</th>\n",
       "      <th>min</th>\n",
       "      <th>25%</th>\n",
       "      <th>50%</th>\n",
       "      <th>75%</th>\n",
       "      <th>max</th>\n",
       "    </tr>\n",
       "  </thead>\n",
       "  <tbody>\n",
       "    <tr>\n",
       "      <th>messages_included</th>\n",
       "      <td>2.0</td>\n",
       "      <td>525.0</td>\n",
       "      <td>671.751442</td>\n",
       "      <td>50.0</td>\n",
       "      <td>287.5</td>\n",
       "      <td>525.0</td>\n",
       "      <td>762.5</td>\n",
       "      <td>1000.0</td>\n",
       "    </tr>\n",
       "    <tr>\n",
       "      <th>mb_per_month_included</th>\n",
       "      <td>2.0</td>\n",
       "      <td>23040.0</td>\n",
       "      <td>10861.160159</td>\n",
       "      <td>15360.0</td>\n",
       "      <td>19200.0</td>\n",
       "      <td>23040.0</td>\n",
       "      <td>26880.0</td>\n",
       "      <td>30720.0</td>\n",
       "    </tr>\n",
       "    <tr>\n",
       "      <th>minutes_included</th>\n",
       "      <td>2.0</td>\n",
       "      <td>1750.0</td>\n",
       "      <td>1767.766953</td>\n",
       "      <td>500.0</td>\n",
       "      <td>1125.0</td>\n",
       "      <td>1750.0</td>\n",
       "      <td>2375.0</td>\n",
       "      <td>3000.0</td>\n",
       "    </tr>\n",
       "    <tr>\n",
       "      <th>rub_monthly_fee</th>\n",
       "      <td>2.0</td>\n",
       "      <td>1250.0</td>\n",
       "      <td>989.949494</td>\n",
       "      <td>550.0</td>\n",
       "      <td>900.0</td>\n",
       "      <td>1250.0</td>\n",
       "      <td>1600.0</td>\n",
       "      <td>1950.0</td>\n",
       "    </tr>\n",
       "    <tr>\n",
       "      <th>rub_per_gb</th>\n",
       "      <td>2.0</td>\n",
       "      <td>175.0</td>\n",
       "      <td>35.355339</td>\n",
       "      <td>150.0</td>\n",
       "      <td>162.5</td>\n",
       "      <td>175.0</td>\n",
       "      <td>187.5</td>\n",
       "      <td>200.0</td>\n",
       "    </tr>\n",
       "    <tr>\n",
       "      <th>rub_per_message</th>\n",
       "      <td>2.0</td>\n",
       "      <td>2.0</td>\n",
       "      <td>1.414214</td>\n",
       "      <td>1.0</td>\n",
       "      <td>1.5</td>\n",
       "      <td>2.0</td>\n",
       "      <td>2.5</td>\n",
       "      <td>3.0</td>\n",
       "    </tr>\n",
       "    <tr>\n",
       "      <th>rub_per_minute</th>\n",
       "      <td>2.0</td>\n",
       "      <td>2.0</td>\n",
       "      <td>1.414214</td>\n",
       "      <td>1.0</td>\n",
       "      <td>1.5</td>\n",
       "      <td>2.0</td>\n",
       "      <td>2.5</td>\n",
       "      <td>3.0</td>\n",
       "    </tr>\n",
       "  </tbody>\n",
       "</table>\n",
       "</div>"
      ],
      "text/plain": [
       "                       count     mean           std      min      25%  \\\n",
       "messages_included        2.0    525.0    671.751442     50.0    287.5   \n",
       "mb_per_month_included    2.0  23040.0  10861.160159  15360.0  19200.0   \n",
       "minutes_included         2.0   1750.0   1767.766953    500.0   1125.0   \n",
       "rub_monthly_fee          2.0   1250.0    989.949494    550.0    900.0   \n",
       "rub_per_gb               2.0    175.0     35.355339    150.0    162.5   \n",
       "rub_per_message          2.0      2.0      1.414214      1.0      1.5   \n",
       "rub_per_minute           2.0      2.0      1.414214      1.0      1.5   \n",
       "\n",
       "                           50%      75%      max  \n",
       "messages_included        525.0    762.5   1000.0  \n",
       "mb_per_month_included  23040.0  26880.0  30720.0  \n",
       "minutes_included        1750.0   2375.0   3000.0  \n",
       "rub_monthly_fee         1250.0   1600.0   1950.0  \n",
       "rub_per_gb               175.0    187.5    200.0  \n",
       "rub_per_message            2.0      2.5      3.0  \n",
       "rub_per_minute             2.0      2.5      3.0  "
      ]
     },
     "metadata": {},
     "output_type": "display_data"
    },
    {
     "name": "stdout",
     "output_type": "stream",
     "text": [
      "\n",
      "Десять первых строк\n",
      "\n"
     ]
    },
    {
     "data": {
      "text/html": [
       "<div>\n",
       "<style scoped>\n",
       "    .dataframe tbody tr th:only-of-type {\n",
       "        vertical-align: middle;\n",
       "    }\n",
       "\n",
       "    .dataframe tbody tr th {\n",
       "        vertical-align: top;\n",
       "    }\n",
       "\n",
       "    .dataframe thead th {\n",
       "        text-align: right;\n",
       "    }\n",
       "</style>\n",
       "<table border=\"1\" class=\"dataframe\">\n",
       "  <thead>\n",
       "    <tr style=\"text-align: right;\">\n",
       "      <th></th>\n",
       "      <th>messages_included</th>\n",
       "      <th>mb_per_month_included</th>\n",
       "      <th>minutes_included</th>\n",
       "      <th>rub_monthly_fee</th>\n",
       "      <th>rub_per_gb</th>\n",
       "      <th>rub_per_message</th>\n",
       "      <th>rub_per_minute</th>\n",
       "      <th>tariff_name</th>\n",
       "    </tr>\n",
       "  </thead>\n",
       "  <tbody>\n",
       "    <tr>\n",
       "      <th>0</th>\n",
       "      <td>50</td>\n",
       "      <td>15360</td>\n",
       "      <td>500</td>\n",
       "      <td>550</td>\n",
       "      <td>200</td>\n",
       "      <td>3</td>\n",
       "      <td>3</td>\n",
       "      <td>smart</td>\n",
       "    </tr>\n",
       "    <tr>\n",
       "      <th>1</th>\n",
       "      <td>1000</td>\n",
       "      <td>30720</td>\n",
       "      <td>3000</td>\n",
       "      <td>1950</td>\n",
       "      <td>150</td>\n",
       "      <td>1</td>\n",
       "      <td>1</td>\n",
       "      <td>ultra</td>\n",
       "    </tr>\n",
       "  </tbody>\n",
       "</table>\n",
       "</div>"
      ],
      "text/plain": [
       "   messages_included  mb_per_month_included  minutes_included  \\\n",
       "0                 50                  15360               500   \n",
       "1               1000                  30720              3000   \n",
       "\n",
       "   rub_monthly_fee  rub_per_gb  rub_per_message  rub_per_minute tariff_name  \n",
       "0              550         200                3               3       smart  \n",
       "1             1950         150                1               1       ultra  "
      ]
     },
     "metadata": {},
     "output_type": "display_data"
    },
    {
     "name": "stdout",
     "output_type": "stream",
     "text": [
      "\n",
      "Количество пустых строк: messages_included        0\n",
      "mb_per_month_included    0\n",
      "minutes_included         0\n",
      "rub_monthly_fee          0\n",
      "rub_per_gb               0\n",
      "rub_per_message          0\n",
      "rub_per_minute           0\n",
      "tariff_name              0\n",
      "dtype: int64\n",
      "\n",
      "Количество полных дубликатов: 0\n"
     ]
    }
   ],
   "source": [
    "data_tariffs = pd.read_csv('tariffs.csv')\n",
    "df_info(data_tariffs)\n"
   ]
  },
  {
   "cell_type": "markdown",
   "metadata": {},
   "source": [
    "в таблице 2 значения с тарифами:\n",
    "<ul> <strong> Тариф «Смарт»</strong>\n",
    "<li>- Ежемесячная плата: 550 рублей\n",
    "<li>- Включено 500 минут разговора, 50 сообщений и 15 Гб интернет-трафика\n",
    "<li>- Стоимость услуг сверх тарифного пакета:\n",
    "минута разговора: 3 рубля\n",
    "сообщение: 3 рубля\n",
    "1 Гб интернет-трафика: 200 рублей </ul> \n",
    "<ul> <strong> Тариф «Ультра»</strong>\n",
    "<li>- Ежемесячная плата: 1950 рублей\n",
    "<li>- Включено 3000 минут разговора, 1000 сообщений и 30 Гб интернет-трафика\n",
    "<li>- Стоимость услуг сверх тарифного пакета:\n",
    "минута разговора: 1 рубль\n",
    "сообщение: 1 рубль\n",
    "1 Гб интернет-трафика: 150 рублей"
   ]
  },
  {
   "cell_type": "markdown",
   "metadata": {},
   "source": [
    "## Предобработка данных\n",
    "### типы данных"
   ]
  },
  {
   "cell_type": "code",
   "execution_count": 10,
   "metadata": {},
   "outputs": [
    {
     "data": {
      "text/html": [
       "<div>\n",
       "<style scoped>\n",
       "    .dataframe tbody tr th:only-of-type {\n",
       "        vertical-align: middle;\n",
       "    }\n",
       "\n",
       "    .dataframe tbody tr th {\n",
       "        vertical-align: top;\n",
       "    }\n",
       "\n",
       "    .dataframe thead th {\n",
       "        text-align: right;\n",
       "    }\n",
       "</style>\n",
       "<table border=\"1\" class=\"dataframe\">\n",
       "  <thead>\n",
       "    <tr style=\"text-align: right;\">\n",
       "      <th></th>\n",
       "      <th>user_id</th>\n",
       "      <th>age</th>\n",
       "      <th>churn_date</th>\n",
       "      <th>city</th>\n",
       "      <th>first_name</th>\n",
       "      <th>last_name</th>\n",
       "      <th>reg_date</th>\n",
       "      <th>tariff_name</th>\n",
       "      <th>month</th>\n",
       "    </tr>\n",
       "  </thead>\n",
       "  <tbody>\n",
       "    <tr>\n",
       "      <th>0</th>\n",
       "      <td>1000</td>\n",
       "      <td>52</td>\n",
       "      <td>NaN</td>\n",
       "      <td>Краснодар</td>\n",
       "      <td>Рафаил</td>\n",
       "      <td>Верещагин</td>\n",
       "      <td>2018-05-25</td>\n",
       "      <td>ultra</td>\n",
       "      <td>5</td>\n",
       "    </tr>\n",
       "    <tr>\n",
       "      <th>1</th>\n",
       "      <td>1001</td>\n",
       "      <td>41</td>\n",
       "      <td>NaN</td>\n",
       "      <td>Москва</td>\n",
       "      <td>Иван</td>\n",
       "      <td>Ежов</td>\n",
       "      <td>2018-11-01</td>\n",
       "      <td>smart</td>\n",
       "      <td>11</td>\n",
       "    </tr>\n",
       "    <tr>\n",
       "      <th>2</th>\n",
       "      <td>1002</td>\n",
       "      <td>59</td>\n",
       "      <td>NaN</td>\n",
       "      <td>Стерлитамак</td>\n",
       "      <td>Евгений</td>\n",
       "      <td>Абрамович</td>\n",
       "      <td>2018-06-17</td>\n",
       "      <td>smart</td>\n",
       "      <td>6</td>\n",
       "    </tr>\n",
       "    <tr>\n",
       "      <th>3</th>\n",
       "      <td>1003</td>\n",
       "      <td>23</td>\n",
       "      <td>NaN</td>\n",
       "      <td>Москва</td>\n",
       "      <td>Белла</td>\n",
       "      <td>Белякова</td>\n",
       "      <td>2018-08-17</td>\n",
       "      <td>ultra</td>\n",
       "      <td>8</td>\n",
       "    </tr>\n",
       "    <tr>\n",
       "      <th>4</th>\n",
       "      <td>1004</td>\n",
       "      <td>68</td>\n",
       "      <td>NaN</td>\n",
       "      <td>Новокузнецк</td>\n",
       "      <td>Татьяна</td>\n",
       "      <td>Авдеенко</td>\n",
       "      <td>2018-05-14</td>\n",
       "      <td>ultra</td>\n",
       "      <td>5</td>\n",
       "    </tr>\n",
       "  </tbody>\n",
       "</table>\n",
       "</div>"
      ],
      "text/plain": [
       "   user_id  age churn_date         city first_name  last_name   reg_date  \\\n",
       "0     1000   52        NaN    Краснодар     Рафаил  Верещагин 2018-05-25   \n",
       "1     1001   41        NaN       Москва       Иван       Ежов 2018-11-01   \n",
       "2     1002   59        NaN  Стерлитамак    Евгений  Абрамович 2018-06-17   \n",
       "3     1003   23        NaN       Москва      Белла   Белякова 2018-08-17   \n",
       "4     1004   68        NaN  Новокузнецк    Татьяна   Авдеенко 2018-05-14   \n",
       "\n",
       "  tariff_name  month  \n",
       "0       ultra      5  \n",
       "1       smart     11  \n",
       "2       smart      6  \n",
       "3       ultra      8  \n",
       "4       ultra      5  "
      ]
     },
     "metadata": {},
     "output_type": "display_data"
    },
    {
     "data": {
      "text/html": [
       "<div>\n",
       "<style scoped>\n",
       "    .dataframe tbody tr th:only-of-type {\n",
       "        vertical-align: middle;\n",
       "    }\n",
       "\n",
       "    .dataframe tbody tr th {\n",
       "        vertical-align: top;\n",
       "    }\n",
       "\n",
       "    .dataframe thead th {\n",
       "        text-align: right;\n",
       "    }\n",
       "</style>\n",
       "<table border=\"1\" class=\"dataframe\">\n",
       "  <thead>\n",
       "    <tr style=\"text-align: right;\">\n",
       "      <th></th>\n",
       "      <th>id</th>\n",
       "      <th>message_date</th>\n",
       "      <th>user_id</th>\n",
       "      <th>month</th>\n",
       "    </tr>\n",
       "  </thead>\n",
       "  <tbody>\n",
       "    <tr>\n",
       "      <th>0</th>\n",
       "      <td>1000_0</td>\n",
       "      <td>2018-06-27</td>\n",
       "      <td>1000</td>\n",
       "      <td>6</td>\n",
       "    </tr>\n",
       "    <tr>\n",
       "      <th>1</th>\n",
       "      <td>1000_1</td>\n",
       "      <td>2018-10-08</td>\n",
       "      <td>1000</td>\n",
       "      <td>10</td>\n",
       "    </tr>\n",
       "    <tr>\n",
       "      <th>2</th>\n",
       "      <td>1000_2</td>\n",
       "      <td>2018-08-04</td>\n",
       "      <td>1000</td>\n",
       "      <td>8</td>\n",
       "    </tr>\n",
       "    <tr>\n",
       "      <th>3</th>\n",
       "      <td>1000_3</td>\n",
       "      <td>2018-06-16</td>\n",
       "      <td>1000</td>\n",
       "      <td>6</td>\n",
       "    </tr>\n",
       "    <tr>\n",
       "      <th>4</th>\n",
       "      <td>1000_4</td>\n",
       "      <td>2018-12-05</td>\n",
       "      <td>1000</td>\n",
       "      <td>12</td>\n",
       "    </tr>\n",
       "  </tbody>\n",
       "</table>\n",
       "</div>"
      ],
      "text/plain": [
       "       id message_date  user_id  month\n",
       "0  1000_0   2018-06-27     1000      6\n",
       "1  1000_1   2018-10-08     1000     10\n",
       "2  1000_2   2018-08-04     1000      8\n",
       "3  1000_3   2018-06-16     1000      6\n",
       "4  1000_4   2018-12-05     1000     12"
      ]
     },
     "metadata": {},
     "output_type": "display_data"
    }
   ],
   "source": [
    "# переведём даты в тим дат\n",
    "data_users['reg_date'] = pd.to_datetime(data_users['reg_date'], format='%Y-%m-%dT%H:%M:%S') \n",
    "data_users['month'] = data_users['reg_date'].dt.month\n",
    "data_users = data_users.rename(columns={'tariff': 'tariff_name'})\n",
    "data_calls['call_date'] = pd.to_datetime(data_calls['call_date'], format='%Y-%m-%dT%H:%M:%S')\n",
    "data_calls['month'] = data_calls['call_date'].dt.month\n",
    "data_internet['session_date'] = pd.to_datetime(data_internet['session_date'], format='%Y-%m-%dT%H:%M:%S')\n",
    "data_internet['month'] = data_internet['session_date'].dt.month\n",
    "data_messages['message_date'] = pd.to_datetime(data_messages['message_date'], format='%Y-%m-%dT%H:%M:%S')\n",
    "data_messages['month'] = data_messages['message_date'].dt.month\n",
    "display(data_users.head())\n",
    "display(data_messages.head())"
   ]
  },
  {
   "cell_type": "markdown",
   "metadata": {},
   "source": [
    "В таблицах data_users, data_calls, data_internet, data_messages имеют тип данных object. Переведём в формат datetime. Отделим месяц в отдельный столбец, чтобы потом рассматривать данные в разрезе месяца."
   ]
  },
  {
   "cell_type": "markdown",
   "metadata": {},
   "source": [
    "## Расчёты и добавление результатов в таблицу\n",
    "\n"
   ]
  },
  {
   "cell_type": "code",
   "execution_count": 11,
   "metadata": {},
   "outputs": [],
   "source": [
    "def gb(mb):    # функция для перевода из  мб в гб и округление в большую сторону\n",
    "    if (mb % 1024) == 0:\n",
    "        return mb // 1024\n",
    "    return mb // 1024+1"
   ]
  },
  {
   "cell_type": "code",
   "execution_count": 12,
   "metadata": {},
   "outputs": [
    {
     "data": {
      "text/plain": [
       "'количество сделанных звонков и израсходованных минут разговора по месяцам'"
      ]
     },
     "metadata": {},
     "output_type": "display_data"
    },
    {
     "data": {
      "text/html": [
       "<div>\n",
       "<style scoped>\n",
       "    .dataframe tbody tr th:only-of-type {\n",
       "        vertical-align: middle;\n",
       "    }\n",
       "\n",
       "    .dataframe tbody tr th {\n",
       "        vertical-align: top;\n",
       "    }\n",
       "\n",
       "    .dataframe thead th {\n",
       "        text-align: right;\n",
       "    }\n",
       "</style>\n",
       "<table border=\"1\" class=\"dataframe\">\n",
       "  <thead>\n",
       "    <tr style=\"text-align: right;\">\n",
       "      <th></th>\n",
       "      <th>user_id</th>\n",
       "      <th>month</th>\n",
       "      <th>duration_sum</th>\n",
       "      <th>duration_count</th>\n",
       "    </tr>\n",
       "  </thead>\n",
       "  <tbody>\n",
       "    <tr>\n",
       "      <th>0</th>\n",
       "      <td>1000</td>\n",
       "      <td>5</td>\n",
       "      <td>22</td>\n",
       "      <td>159.0</td>\n",
       "    </tr>\n",
       "    <tr>\n",
       "      <th>1</th>\n",
       "      <td>1000</td>\n",
       "      <td>6</td>\n",
       "      <td>43</td>\n",
       "      <td>172.0</td>\n",
       "    </tr>\n",
       "    <tr>\n",
       "      <th>2</th>\n",
       "      <td>1000</td>\n",
       "      <td>7</td>\n",
       "      <td>47</td>\n",
       "      <td>340.0</td>\n",
       "    </tr>\n",
       "    <tr>\n",
       "      <th>3</th>\n",
       "      <td>1000</td>\n",
       "      <td>8</td>\n",
       "      <td>52</td>\n",
       "      <td>408.0</td>\n",
       "    </tr>\n",
       "    <tr>\n",
       "      <th>4</th>\n",
       "      <td>1000</td>\n",
       "      <td>9</td>\n",
       "      <td>58</td>\n",
       "      <td>466.0</td>\n",
       "    </tr>\n",
       "    <tr>\n",
       "      <th>...</th>\n",
       "      <td>...</td>\n",
       "      <td>...</td>\n",
       "      <td>...</td>\n",
       "      <td>...</td>\n",
       "    </tr>\n",
       "    <tr>\n",
       "      <th>3169</th>\n",
       "      <td>1498</td>\n",
       "      <td>10</td>\n",
       "      <td>41</td>\n",
       "      <td>247.0</td>\n",
       "    </tr>\n",
       "    <tr>\n",
       "      <th>3170</th>\n",
       "      <td>1499</td>\n",
       "      <td>9</td>\n",
       "      <td>9</td>\n",
       "      <td>70.0</td>\n",
       "    </tr>\n",
       "    <tr>\n",
       "      <th>3171</th>\n",
       "      <td>1499</td>\n",
       "      <td>10</td>\n",
       "      <td>68</td>\n",
       "      <td>449.0</td>\n",
       "    </tr>\n",
       "    <tr>\n",
       "      <th>3172</th>\n",
       "      <td>1499</td>\n",
       "      <td>11</td>\n",
       "      <td>74</td>\n",
       "      <td>612.0</td>\n",
       "    </tr>\n",
       "    <tr>\n",
       "      <th>3173</th>\n",
       "      <td>1499</td>\n",
       "      <td>12</td>\n",
       "      <td>69</td>\n",
       "      <td>492.0</td>\n",
       "    </tr>\n",
       "  </tbody>\n",
       "</table>\n",
       "<p>3174 rows × 4 columns</p>\n",
       "</div>"
      ],
      "text/plain": [
       "      user_id  month  duration_sum  duration_count\n",
       "0        1000      5            22           159.0\n",
       "1        1000      6            43           172.0\n",
       "2        1000      7            47           340.0\n",
       "3        1000      8            52           408.0\n",
       "4        1000      9            58           466.0\n",
       "...       ...    ...           ...             ...\n",
       "3169     1498     10            41           247.0\n",
       "3170     1499      9             9            70.0\n",
       "3171     1499     10            68           449.0\n",
       "3172     1499     11            74           612.0\n",
       "3173     1499     12            69           492.0\n",
       "\n",
       "[3174 rows x 4 columns]"
      ]
     },
     "metadata": {},
     "output_type": "display_data"
    },
    {
     "data": {
      "text/plain": [
       "'объем израсходованного интернет-трафика по месяцам'"
      ]
     },
     "metadata": {},
     "output_type": "display_data"
    },
    {
     "data": {
      "text/html": [
       "<div>\n",
       "<style scoped>\n",
       "    .dataframe tbody tr th:only-of-type {\n",
       "        vertical-align: middle;\n",
       "    }\n",
       "\n",
       "    .dataframe tbody tr th {\n",
       "        vertical-align: top;\n",
       "    }\n",
       "\n",
       "    .dataframe thead th {\n",
       "        text-align: right;\n",
       "    }\n",
       "</style>\n",
       "<table border=\"1\" class=\"dataframe\">\n",
       "  <thead>\n",
       "    <tr style=\"text-align: right;\">\n",
       "      <th></th>\n",
       "      <th>user_id</th>\n",
       "      <th>month</th>\n",
       "      <th>mb_used</th>\n",
       "      <th>gb_used</th>\n",
       "    </tr>\n",
       "  </thead>\n",
       "  <tbody>\n",
       "    <tr>\n",
       "      <th>0</th>\n",
       "      <td>1000</td>\n",
       "      <td>5</td>\n",
       "      <td>2253.49</td>\n",
       "      <td>3.0</td>\n",
       "    </tr>\n",
       "    <tr>\n",
       "      <th>1</th>\n",
       "      <td>1000</td>\n",
       "      <td>6</td>\n",
       "      <td>23233.77</td>\n",
       "      <td>23.0</td>\n",
       "    </tr>\n",
       "    <tr>\n",
       "      <th>2</th>\n",
       "      <td>1000</td>\n",
       "      <td>7</td>\n",
       "      <td>14003.64</td>\n",
       "      <td>14.0</td>\n",
       "    </tr>\n",
       "    <tr>\n",
       "      <th>3</th>\n",
       "      <td>1000</td>\n",
       "      <td>8</td>\n",
       "      <td>14055.93</td>\n",
       "      <td>14.0</td>\n",
       "    </tr>\n",
       "    <tr>\n",
       "      <th>4</th>\n",
       "      <td>1000</td>\n",
       "      <td>9</td>\n",
       "      <td>14568.91</td>\n",
       "      <td>15.0</td>\n",
       "    </tr>\n",
       "    <tr>\n",
       "      <th>...</th>\n",
       "      <td>...</td>\n",
       "      <td>...</td>\n",
       "      <td>...</td>\n",
       "      <td>...</td>\n",
       "    </tr>\n",
       "    <tr>\n",
       "      <th>3198</th>\n",
       "      <td>1498</td>\n",
       "      <td>10</td>\n",
       "      <td>20579.36</td>\n",
       "      <td>21.0</td>\n",
       "    </tr>\n",
       "    <tr>\n",
       "      <th>3199</th>\n",
       "      <td>1499</td>\n",
       "      <td>9</td>\n",
       "      <td>1845.75</td>\n",
       "      <td>2.0</td>\n",
       "    </tr>\n",
       "    <tr>\n",
       "      <th>3200</th>\n",
       "      <td>1499</td>\n",
       "      <td>10</td>\n",
       "      <td>17788.51</td>\n",
       "      <td>18.0</td>\n",
       "    </tr>\n",
       "    <tr>\n",
       "      <th>3201</th>\n",
       "      <td>1499</td>\n",
       "      <td>11</td>\n",
       "      <td>17963.31</td>\n",
       "      <td>18.0</td>\n",
       "    </tr>\n",
       "    <tr>\n",
       "      <th>3202</th>\n",
       "      <td>1499</td>\n",
       "      <td>12</td>\n",
       "      <td>13055.58</td>\n",
       "      <td>13.0</td>\n",
       "    </tr>\n",
       "  </tbody>\n",
       "</table>\n",
       "<p>3203 rows × 4 columns</p>\n",
       "</div>"
      ],
      "text/plain": [
       "      user_id  month   mb_used  gb_used\n",
       "0        1000      5   2253.49      3.0\n",
       "1        1000      6  23233.77     23.0\n",
       "2        1000      7  14003.64     14.0\n",
       "3        1000      8  14055.93     14.0\n",
       "4        1000      9  14568.91     15.0\n",
       "...       ...    ...       ...      ...\n",
       "3198     1498     10  20579.36     21.0\n",
       "3199     1499      9   1845.75      2.0\n",
       "3200     1499     10  17788.51     18.0\n",
       "3201     1499     11  17963.31     18.0\n",
       "3202     1499     12  13055.58     13.0\n",
       "\n",
       "[3203 rows x 4 columns]"
      ]
     },
     "metadata": {},
     "output_type": "display_data"
    },
    {
     "data": {
      "text/plain": [
       "'количество отправленных сообщений по месяцам'"
      ]
     },
     "metadata": {},
     "output_type": "display_data"
    },
    {
     "data": {
      "text/html": [
       "<div>\n",
       "<style scoped>\n",
       "    .dataframe tbody tr th:only-of-type {\n",
       "        vertical-align: middle;\n",
       "    }\n",
       "\n",
       "    .dataframe tbody tr th {\n",
       "        vertical-align: top;\n",
       "    }\n",
       "\n",
       "    .dataframe thead th {\n",
       "        text-align: right;\n",
       "    }\n",
       "</style>\n",
       "<table border=\"1\" class=\"dataframe\">\n",
       "  <thead>\n",
       "    <tr style=\"text-align: right;\">\n",
       "      <th></th>\n",
       "      <th>user_id</th>\n",
       "      <th>month</th>\n",
       "      <th>message_count</th>\n",
       "    </tr>\n",
       "  </thead>\n",
       "  <tbody>\n",
       "    <tr>\n",
       "      <th>0</th>\n",
       "      <td>1000</td>\n",
       "      <td>5</td>\n",
       "      <td>22</td>\n",
       "    </tr>\n",
       "    <tr>\n",
       "      <th>1</th>\n",
       "      <td>1000</td>\n",
       "      <td>6</td>\n",
       "      <td>60</td>\n",
       "    </tr>\n",
       "    <tr>\n",
       "      <th>2</th>\n",
       "      <td>1000</td>\n",
       "      <td>7</td>\n",
       "      <td>75</td>\n",
       "    </tr>\n",
       "    <tr>\n",
       "      <th>3</th>\n",
       "      <td>1000</td>\n",
       "      <td>8</td>\n",
       "      <td>81</td>\n",
       "    </tr>\n",
       "    <tr>\n",
       "      <th>4</th>\n",
       "      <td>1000</td>\n",
       "      <td>9</td>\n",
       "      <td>57</td>\n",
       "    </tr>\n",
       "    <tr>\n",
       "      <th>...</th>\n",
       "      <td>...</td>\n",
       "      <td>...</td>\n",
       "      <td>...</td>\n",
       "    </tr>\n",
       "    <tr>\n",
       "      <th>2712</th>\n",
       "      <td>1498</td>\n",
       "      <td>10</td>\n",
       "      <td>42</td>\n",
       "    </tr>\n",
       "    <tr>\n",
       "      <th>2713</th>\n",
       "      <td>1499</td>\n",
       "      <td>9</td>\n",
       "      <td>11</td>\n",
       "    </tr>\n",
       "    <tr>\n",
       "      <th>2714</th>\n",
       "      <td>1499</td>\n",
       "      <td>10</td>\n",
       "      <td>48</td>\n",
       "    </tr>\n",
       "    <tr>\n",
       "      <th>2715</th>\n",
       "      <td>1499</td>\n",
       "      <td>11</td>\n",
       "      <td>59</td>\n",
       "    </tr>\n",
       "    <tr>\n",
       "      <th>2716</th>\n",
       "      <td>1499</td>\n",
       "      <td>12</td>\n",
       "      <td>66</td>\n",
       "    </tr>\n",
       "  </tbody>\n",
       "</table>\n",
       "<p>2717 rows × 3 columns</p>\n",
       "</div>"
      ],
      "text/plain": [
       "      user_id  month  message_count\n",
       "0        1000      5             22\n",
       "1        1000      6             60\n",
       "2        1000      7             75\n",
       "3        1000      8             81\n",
       "4        1000      9             57\n",
       "...       ...    ...            ...\n",
       "2712     1498     10             42\n",
       "2713     1499      9             11\n",
       "2714     1499     10             48\n",
       "2715     1499     11             59\n",
       "2716     1499     12             66\n",
       "\n",
       "[2717 rows x 3 columns]"
      ]
     },
     "metadata": {},
     "output_type": "display_data"
    }
   ],
   "source": [
    "\n",
    "data_calls['duration_itog'] = data_calls['duration'].apply(np.ceil) # округлим в таблице звонков секунды до минут\n",
    "#display(data_calls.head(10))\n",
    "data_calls = data_calls.groupby(['user_id', 'month']).agg({'duration_itog': {'sum', 'count'}}).reset_index()\n",
    "data_calls.columns = ['user_id','month','duration_sum', 'duration_count']\n",
    "display(\"количество сделанных звонков и израсходованных минут разговора по месяцам\", data_calls)\n",
    "\n",
    "data_internet = data_internet.groupby(['user_id', 'month']).agg({'mb_used': 'sum'}).reset_index()\n",
    "data_internet['gb_used'] = data_internet['mb_used'].apply(gb) # округлим мегабайты до гигабайт\n",
    "display('объем израсходованного интернет-трафика по месяцам',data_internet)\n",
    "data_messages = data_messages.groupby(['user_id', 'month']).agg({'message_date': 'count'}).reset_index()\n",
    "data_messages = data_messages.rename(columns={'message_date': 'message_count'}) # количество смс\n",
    "display('количество отправленных сообщений по месяцам',data_messages)\n",
    "\n",
    "\n"
   ]
  },
  {
   "cell_type": "code",
   "execution_count": 13,
   "metadata": {},
   "outputs": [],
   "source": [
    "#Объединим таблицы в одну\n",
    "data = data_calls.merge(data_internet, on = ['user_id', 'month'], how = 'outer')\n",
    "#display(data)\n",
    "data = data_messages.merge(data, on = ['user_id', 'month'], how = 'outer')\n",
    "#display(data)\n",
    "data_us_tarif = data_tariffs.merge(data_users, on = ['tariff_name'], how = 'outer')\n",
    "\n",
    "data = data.merge(data_us_tarif, on = ['user_id'], how = 'outer')\n"
   ]
  },
  {
   "cell_type": "code",
   "execution_count": 14,
   "metadata": {},
   "outputs": [
    {
     "data": {
      "text/html": [
       "<div>\n",
       "<style scoped>\n",
       "    .dataframe tbody tr th:only-of-type {\n",
       "        vertical-align: middle;\n",
       "    }\n",
       "\n",
       "    .dataframe tbody tr th {\n",
       "        vertical-align: top;\n",
       "    }\n",
       "\n",
       "    .dataframe thead th {\n",
       "        text-align: right;\n",
       "    }\n",
       "</style>\n",
       "<table border=\"1\" class=\"dataframe\">\n",
       "  <thead>\n",
       "    <tr style=\"text-align: right;\">\n",
       "      <th></th>\n",
       "      <th>user_id</th>\n",
       "      <th>month_x</th>\n",
       "      <th>message_count</th>\n",
       "      <th>duration_sum</th>\n",
       "      <th>duration_count</th>\n",
       "      <th>mb_used</th>\n",
       "      <th>gb_used</th>\n",
       "      <th>messages_included</th>\n",
       "      <th>mb_per_month_included</th>\n",
       "      <th>minutes_included</th>\n",
       "      <th>...</th>\n",
       "      <th>rub_per_message</th>\n",
       "      <th>rub_per_minute</th>\n",
       "      <th>tariff_name</th>\n",
       "      <th>age</th>\n",
       "      <th>churn_date</th>\n",
       "      <th>city</th>\n",
       "      <th>first_name</th>\n",
       "      <th>last_name</th>\n",
       "      <th>reg_date</th>\n",
       "      <th>month_y</th>\n",
       "    </tr>\n",
       "  </thead>\n",
       "  <tbody>\n",
       "    <tr>\n",
       "      <th>0</th>\n",
       "      <td>1000</td>\n",
       "      <td>5.0</td>\n",
       "      <td>22.0</td>\n",
       "      <td>22.0</td>\n",
       "      <td>159.0</td>\n",
       "      <td>2253.49</td>\n",
       "      <td>3.0</td>\n",
       "      <td>1000</td>\n",
       "      <td>30720</td>\n",
       "      <td>3000</td>\n",
       "      <td>...</td>\n",
       "      <td>1</td>\n",
       "      <td>1</td>\n",
       "      <td>ultra</td>\n",
       "      <td>52</td>\n",
       "      <td>NaN</td>\n",
       "      <td>Краснодар</td>\n",
       "      <td>Рафаил</td>\n",
       "      <td>Верещагин</td>\n",
       "      <td>2018-05-25</td>\n",
       "      <td>5</td>\n",
       "    </tr>\n",
       "    <tr>\n",
       "      <th>1</th>\n",
       "      <td>1000</td>\n",
       "      <td>6.0</td>\n",
       "      <td>60.0</td>\n",
       "      <td>43.0</td>\n",
       "      <td>172.0</td>\n",
       "      <td>23233.77</td>\n",
       "      <td>23.0</td>\n",
       "      <td>1000</td>\n",
       "      <td>30720</td>\n",
       "      <td>3000</td>\n",
       "      <td>...</td>\n",
       "      <td>1</td>\n",
       "      <td>1</td>\n",
       "      <td>ultra</td>\n",
       "      <td>52</td>\n",
       "      <td>NaN</td>\n",
       "      <td>Краснодар</td>\n",
       "      <td>Рафаил</td>\n",
       "      <td>Верещагин</td>\n",
       "      <td>2018-05-25</td>\n",
       "      <td>5</td>\n",
       "    </tr>\n",
       "    <tr>\n",
       "      <th>2</th>\n",
       "      <td>1000</td>\n",
       "      <td>7.0</td>\n",
       "      <td>75.0</td>\n",
       "      <td>47.0</td>\n",
       "      <td>340.0</td>\n",
       "      <td>14003.64</td>\n",
       "      <td>14.0</td>\n",
       "      <td>1000</td>\n",
       "      <td>30720</td>\n",
       "      <td>3000</td>\n",
       "      <td>...</td>\n",
       "      <td>1</td>\n",
       "      <td>1</td>\n",
       "      <td>ultra</td>\n",
       "      <td>52</td>\n",
       "      <td>NaN</td>\n",
       "      <td>Краснодар</td>\n",
       "      <td>Рафаил</td>\n",
       "      <td>Верещагин</td>\n",
       "      <td>2018-05-25</td>\n",
       "      <td>5</td>\n",
       "    </tr>\n",
       "    <tr>\n",
       "      <th>3</th>\n",
       "      <td>1000</td>\n",
       "      <td>8.0</td>\n",
       "      <td>81.0</td>\n",
       "      <td>52.0</td>\n",
       "      <td>408.0</td>\n",
       "      <td>14055.93</td>\n",
       "      <td>14.0</td>\n",
       "      <td>1000</td>\n",
       "      <td>30720</td>\n",
       "      <td>3000</td>\n",
       "      <td>...</td>\n",
       "      <td>1</td>\n",
       "      <td>1</td>\n",
       "      <td>ultra</td>\n",
       "      <td>52</td>\n",
       "      <td>NaN</td>\n",
       "      <td>Краснодар</td>\n",
       "      <td>Рафаил</td>\n",
       "      <td>Верещагин</td>\n",
       "      <td>2018-05-25</td>\n",
       "      <td>5</td>\n",
       "    </tr>\n",
       "    <tr>\n",
       "      <th>4</th>\n",
       "      <td>1000</td>\n",
       "      <td>9.0</td>\n",
       "      <td>57.0</td>\n",
       "      <td>58.0</td>\n",
       "      <td>466.0</td>\n",
       "      <td>14568.91</td>\n",
       "      <td>15.0</td>\n",
       "      <td>1000</td>\n",
       "      <td>30720</td>\n",
       "      <td>3000</td>\n",
       "      <td>...</td>\n",
       "      <td>1</td>\n",
       "      <td>1</td>\n",
       "      <td>ultra</td>\n",
       "      <td>52</td>\n",
       "      <td>NaN</td>\n",
       "      <td>Краснодар</td>\n",
       "      <td>Рафаил</td>\n",
       "      <td>Верещагин</td>\n",
       "      <td>2018-05-25</td>\n",
       "      <td>5</td>\n",
       "    </tr>\n",
       "    <tr>\n",
       "      <th>...</th>\n",
       "      <td>...</td>\n",
       "      <td>...</td>\n",
       "      <td>...</td>\n",
       "      <td>...</td>\n",
       "      <td>...</td>\n",
       "      <td>...</td>\n",
       "      <td>...</td>\n",
       "      <td>...</td>\n",
       "      <td>...</td>\n",
       "      <td>...</td>\n",
       "      <td>...</td>\n",
       "      <td>...</td>\n",
       "      <td>...</td>\n",
       "      <td>...</td>\n",
       "      <td>...</td>\n",
       "      <td>...</td>\n",
       "      <td>...</td>\n",
       "      <td>...</td>\n",
       "      <td>...</td>\n",
       "      <td>...</td>\n",
       "      <td>...</td>\n",
       "    </tr>\n",
       "    <tr>\n",
       "      <th>3211</th>\n",
       "      <td>1494</td>\n",
       "      <td>10.0</td>\n",
       "      <td>0.0</td>\n",
       "      <td>52.0</td>\n",
       "      <td>354.0</td>\n",
       "      <td>17767.24</td>\n",
       "      <td>18.0</td>\n",
       "      <td>50</td>\n",
       "      <td>15360</td>\n",
       "      <td>500</td>\n",
       "      <td>...</td>\n",
       "      <td>3</td>\n",
       "      <td>3</td>\n",
       "      <td>smart</td>\n",
       "      <td>62</td>\n",
       "      <td>NaN</td>\n",
       "      <td>Омск</td>\n",
       "      <td>Ренат</td>\n",
       "      <td>Андропов</td>\n",
       "      <td>2018-08-17</td>\n",
       "      <td>8</td>\n",
       "    </tr>\n",
       "    <tr>\n",
       "      <th>3212</th>\n",
       "      <td>1494</td>\n",
       "      <td>11.0</td>\n",
       "      <td>0.0</td>\n",
       "      <td>63.0</td>\n",
       "      <td>411.0</td>\n",
       "      <td>18052.45</td>\n",
       "      <td>18.0</td>\n",
       "      <td>50</td>\n",
       "      <td>15360</td>\n",
       "      <td>500</td>\n",
       "      <td>...</td>\n",
       "      <td>3</td>\n",
       "      <td>3</td>\n",
       "      <td>smart</td>\n",
       "      <td>62</td>\n",
       "      <td>NaN</td>\n",
       "      <td>Омск</td>\n",
       "      <td>Ренат</td>\n",
       "      <td>Андропов</td>\n",
       "      <td>2018-08-17</td>\n",
       "      <td>8</td>\n",
       "    </tr>\n",
       "    <tr>\n",
       "      <th>3213</th>\n",
       "      <td>1494</td>\n",
       "      <td>12.0</td>\n",
       "      <td>0.0</td>\n",
       "      <td>62.0</td>\n",
       "      <td>418.0</td>\n",
       "      <td>17621.21</td>\n",
       "      <td>18.0</td>\n",
       "      <td>50</td>\n",
       "      <td>15360</td>\n",
       "      <td>500</td>\n",
       "      <td>...</td>\n",
       "      <td>3</td>\n",
       "      <td>3</td>\n",
       "      <td>smart</td>\n",
       "      <td>62</td>\n",
       "      <td>NaN</td>\n",
       "      <td>Омск</td>\n",
       "      <td>Ренат</td>\n",
       "      <td>Андропов</td>\n",
       "      <td>2018-08-17</td>\n",
       "      <td>8</td>\n",
       "    </tr>\n",
       "    <tr>\n",
       "      <th>3214</th>\n",
       "      <td>1371</td>\n",
       "      <td>NaN</td>\n",
       "      <td>0.0</td>\n",
       "      <td>0.0</td>\n",
       "      <td>0.0</td>\n",
       "      <td>0.00</td>\n",
       "      <td>0.0</td>\n",
       "      <td>50</td>\n",
       "      <td>15360</td>\n",
       "      <td>500</td>\n",
       "      <td>...</td>\n",
       "      <td>3</td>\n",
       "      <td>3</td>\n",
       "      <td>smart</td>\n",
       "      <td>50</td>\n",
       "      <td>2018-12-30</td>\n",
       "      <td>Омск</td>\n",
       "      <td>Ириней</td>\n",
       "      <td>Трофимов</td>\n",
       "      <td>2018-12-25</td>\n",
       "      <td>12</td>\n",
       "    </tr>\n",
       "    <tr>\n",
       "      <th>3215</th>\n",
       "      <td>1128</td>\n",
       "      <td>NaN</td>\n",
       "      <td>0.0</td>\n",
       "      <td>0.0</td>\n",
       "      <td>0.0</td>\n",
       "      <td>0.00</td>\n",
       "      <td>0.0</td>\n",
       "      <td>1000</td>\n",
       "      <td>30720</td>\n",
       "      <td>3000</td>\n",
       "      <td>...</td>\n",
       "      <td>1</td>\n",
       "      <td>1</td>\n",
       "      <td>ultra</td>\n",
       "      <td>51</td>\n",
       "      <td>2018-12-23</td>\n",
       "      <td>Волжский</td>\n",
       "      <td>Ксения</td>\n",
       "      <td>Агаева</td>\n",
       "      <td>2018-12-15</td>\n",
       "      <td>12</td>\n",
       "    </tr>\n",
       "  </tbody>\n",
       "</table>\n",
       "<p>3216 rows × 22 columns</p>\n",
       "</div>"
      ],
      "text/plain": [
       "      user_id  month_x  message_count  duration_sum  duration_count   mb_used  \\\n",
       "0        1000      5.0           22.0          22.0           159.0   2253.49   \n",
       "1        1000      6.0           60.0          43.0           172.0  23233.77   \n",
       "2        1000      7.0           75.0          47.0           340.0  14003.64   \n",
       "3        1000      8.0           81.0          52.0           408.0  14055.93   \n",
       "4        1000      9.0           57.0          58.0           466.0  14568.91   \n",
       "...       ...      ...            ...           ...             ...       ...   \n",
       "3211     1494     10.0            0.0          52.0           354.0  17767.24   \n",
       "3212     1494     11.0            0.0          63.0           411.0  18052.45   \n",
       "3213     1494     12.0            0.0          62.0           418.0  17621.21   \n",
       "3214     1371      NaN            0.0           0.0             0.0      0.00   \n",
       "3215     1128      NaN            0.0           0.0             0.0      0.00   \n",
       "\n",
       "      gb_used  messages_included  mb_per_month_included  minutes_included  \\\n",
       "0         3.0               1000                  30720              3000   \n",
       "1        23.0               1000                  30720              3000   \n",
       "2        14.0               1000                  30720              3000   \n",
       "3        14.0               1000                  30720              3000   \n",
       "4        15.0               1000                  30720              3000   \n",
       "...       ...                ...                    ...               ...   \n",
       "3211     18.0                 50                  15360               500   \n",
       "3212     18.0                 50                  15360               500   \n",
       "3213     18.0                 50                  15360               500   \n",
       "3214      0.0                 50                  15360               500   \n",
       "3215      0.0               1000                  30720              3000   \n",
       "\n",
       "      ...  rub_per_message  rub_per_minute  tariff_name  age  churn_date  \\\n",
       "0     ...                1               1        ultra   52         NaN   \n",
       "1     ...                1               1        ultra   52         NaN   \n",
       "2     ...                1               1        ultra   52         NaN   \n",
       "3     ...                1               1        ultra   52         NaN   \n",
       "4     ...                1               1        ultra   52         NaN   \n",
       "...   ...              ...             ...          ...  ...         ...   \n",
       "3211  ...                3               3        smart   62         NaN   \n",
       "3212  ...                3               3        smart   62         NaN   \n",
       "3213  ...                3               3        smart   62         NaN   \n",
       "3214  ...                3               3        smart   50  2018-12-30   \n",
       "3215  ...                1               1        ultra   51  2018-12-23   \n",
       "\n",
       "           city first_name  last_name   reg_date month_y  \n",
       "0     Краснодар     Рафаил  Верещагин 2018-05-25       5  \n",
       "1     Краснодар     Рафаил  Верещагин 2018-05-25       5  \n",
       "2     Краснодар     Рафаил  Верещагин 2018-05-25       5  \n",
       "3     Краснодар     Рафаил  Верещагин 2018-05-25       5  \n",
       "4     Краснодар     Рафаил  Верещагин 2018-05-25       5  \n",
       "...         ...        ...        ...        ...     ...  \n",
       "3211       Омск      Ренат   Андропов 2018-08-17       8  \n",
       "3212       Омск      Ренат   Андропов 2018-08-17       8  \n",
       "3213       Омск      Ренат   Андропов 2018-08-17       8  \n",
       "3214       Омск     Ириней   Трофимов 2018-12-25      12  \n",
       "3215   Волжский     Ксения     Агаева 2018-12-15      12  \n",
       "\n",
       "[3216 rows x 22 columns]"
      ]
     },
     "metadata": {},
     "output_type": "display_data"
    }
   ],
   "source": [
    "# после объединения пропуски gb_used_x,message_count, duration_sum, duration_count заменяем 0, тк услугами не пользовались\n",
    "data['message_count'] = data['message_count'].fillna(0)\n",
    "data['gb_used'] = data['gb_used'].fillna(0)\n",
    "data['mb_used'] = data['mb_used'].fillna(0)\n",
    "data['duration_sum'] = data['duration_sum'].fillna(0)\n",
    "data['duration_count'] = data['duration_count'].fillna(0)\n",
    "display(data)"
   ]
  },
  {
   "cell_type": "code",
   "execution_count": 15,
   "metadata": {},
   "outputs": [
    {
     "data": {
      "text/html": [
       "<div>\n",
       "<style scoped>\n",
       "    .dataframe tbody tr th:only-of-type {\n",
       "        vertical-align: middle;\n",
       "    }\n",
       "\n",
       "    .dataframe tbody tr th {\n",
       "        vertical-align: top;\n",
       "    }\n",
       "\n",
       "    .dataframe thead th {\n",
       "        text-align: right;\n",
       "    }\n",
       "</style>\n",
       "<table border=\"1\" class=\"dataframe\">\n",
       "  <thead>\n",
       "    <tr style=\"text-align: right;\">\n",
       "      <th></th>\n",
       "      <th>user_id</th>\n",
       "      <th>month_x</th>\n",
       "      <th>message_count</th>\n",
       "      <th>duration_sum</th>\n",
       "      <th>duration_count</th>\n",
       "      <th>mb_used</th>\n",
       "      <th>gb_used</th>\n",
       "      <th>messages_included</th>\n",
       "      <th>mb_per_month_included</th>\n",
       "      <th>minutes_included</th>\n",
       "      <th>...</th>\n",
       "      <th>last_name</th>\n",
       "      <th>reg_date</th>\n",
       "      <th>month_y</th>\n",
       "      <th>minutes_over</th>\n",
       "      <th>pay_calls</th>\n",
       "      <th>sms_over</th>\n",
       "      <th>pay_sms</th>\n",
       "      <th>gb_over</th>\n",
       "      <th>pay_gb</th>\n",
       "      <th>pay</th>\n",
       "    </tr>\n",
       "  </thead>\n",
       "  <tbody>\n",
       "    <tr>\n",
       "      <th>0</th>\n",
       "      <td>1000</td>\n",
       "      <td>5.0</td>\n",
       "      <td>22.0</td>\n",
       "      <td>22.0</td>\n",
       "      <td>159.0</td>\n",
       "      <td>2253.49</td>\n",
       "      <td>3.0</td>\n",
       "      <td>1000</td>\n",
       "      <td>30720</td>\n",
       "      <td>3000</td>\n",
       "      <td>...</td>\n",
       "      <td>Верещагин</td>\n",
       "      <td>2018-05-25</td>\n",
       "      <td>5</td>\n",
       "      <td>0.0</td>\n",
       "      <td>0.0</td>\n",
       "      <td>0.0</td>\n",
       "      <td>0.0</td>\n",
       "      <td>0.0</td>\n",
       "      <td>0.0</td>\n",
       "      <td>1950.0</td>\n",
       "    </tr>\n",
       "    <tr>\n",
       "      <th>1</th>\n",
       "      <td>1000</td>\n",
       "      <td>6.0</td>\n",
       "      <td>60.0</td>\n",
       "      <td>43.0</td>\n",
       "      <td>172.0</td>\n",
       "      <td>23233.77</td>\n",
       "      <td>23.0</td>\n",
       "      <td>1000</td>\n",
       "      <td>30720</td>\n",
       "      <td>3000</td>\n",
       "      <td>...</td>\n",
       "      <td>Верещагин</td>\n",
       "      <td>2018-05-25</td>\n",
       "      <td>5</td>\n",
       "      <td>0.0</td>\n",
       "      <td>0.0</td>\n",
       "      <td>0.0</td>\n",
       "      <td>0.0</td>\n",
       "      <td>0.0</td>\n",
       "      <td>0.0</td>\n",
       "      <td>1950.0</td>\n",
       "    </tr>\n",
       "    <tr>\n",
       "      <th>2</th>\n",
       "      <td>1000</td>\n",
       "      <td>7.0</td>\n",
       "      <td>75.0</td>\n",
       "      <td>47.0</td>\n",
       "      <td>340.0</td>\n",
       "      <td>14003.64</td>\n",
       "      <td>14.0</td>\n",
       "      <td>1000</td>\n",
       "      <td>30720</td>\n",
       "      <td>3000</td>\n",
       "      <td>...</td>\n",
       "      <td>Верещагин</td>\n",
       "      <td>2018-05-25</td>\n",
       "      <td>5</td>\n",
       "      <td>0.0</td>\n",
       "      <td>0.0</td>\n",
       "      <td>0.0</td>\n",
       "      <td>0.0</td>\n",
       "      <td>0.0</td>\n",
       "      <td>0.0</td>\n",
       "      <td>1950.0</td>\n",
       "    </tr>\n",
       "    <tr>\n",
       "      <th>3</th>\n",
       "      <td>1000</td>\n",
       "      <td>8.0</td>\n",
       "      <td>81.0</td>\n",
       "      <td>52.0</td>\n",
       "      <td>408.0</td>\n",
       "      <td>14055.93</td>\n",
       "      <td>14.0</td>\n",
       "      <td>1000</td>\n",
       "      <td>30720</td>\n",
       "      <td>3000</td>\n",
       "      <td>...</td>\n",
       "      <td>Верещагин</td>\n",
       "      <td>2018-05-25</td>\n",
       "      <td>5</td>\n",
       "      <td>0.0</td>\n",
       "      <td>0.0</td>\n",
       "      <td>0.0</td>\n",
       "      <td>0.0</td>\n",
       "      <td>0.0</td>\n",
       "      <td>0.0</td>\n",
       "      <td>1950.0</td>\n",
       "    </tr>\n",
       "    <tr>\n",
       "      <th>4</th>\n",
       "      <td>1000</td>\n",
       "      <td>9.0</td>\n",
       "      <td>57.0</td>\n",
       "      <td>58.0</td>\n",
       "      <td>466.0</td>\n",
       "      <td>14568.91</td>\n",
       "      <td>15.0</td>\n",
       "      <td>1000</td>\n",
       "      <td>30720</td>\n",
       "      <td>3000</td>\n",
       "      <td>...</td>\n",
       "      <td>Верещагин</td>\n",
       "      <td>2018-05-25</td>\n",
       "      <td>5</td>\n",
       "      <td>0.0</td>\n",
       "      <td>0.0</td>\n",
       "      <td>0.0</td>\n",
       "      <td>0.0</td>\n",
       "      <td>0.0</td>\n",
       "      <td>0.0</td>\n",
       "      <td>1950.0</td>\n",
       "    </tr>\n",
       "    <tr>\n",
       "      <th>...</th>\n",
       "      <td>...</td>\n",
       "      <td>...</td>\n",
       "      <td>...</td>\n",
       "      <td>...</td>\n",
       "      <td>...</td>\n",
       "      <td>...</td>\n",
       "      <td>...</td>\n",
       "      <td>...</td>\n",
       "      <td>...</td>\n",
       "      <td>...</td>\n",
       "      <td>...</td>\n",
       "      <td>...</td>\n",
       "      <td>...</td>\n",
       "      <td>...</td>\n",
       "      <td>...</td>\n",
       "      <td>...</td>\n",
       "      <td>...</td>\n",
       "      <td>...</td>\n",
       "      <td>...</td>\n",
       "      <td>...</td>\n",
       "      <td>...</td>\n",
       "    </tr>\n",
       "    <tr>\n",
       "      <th>3211</th>\n",
       "      <td>1494</td>\n",
       "      <td>10.0</td>\n",
       "      <td>0.0</td>\n",
       "      <td>52.0</td>\n",
       "      <td>354.0</td>\n",
       "      <td>17767.24</td>\n",
       "      <td>18.0</td>\n",
       "      <td>50</td>\n",
       "      <td>15360</td>\n",
       "      <td>500</td>\n",
       "      <td>...</td>\n",
       "      <td>Андропов</td>\n",
       "      <td>2018-08-17</td>\n",
       "      <td>8</td>\n",
       "      <td>0.0</td>\n",
       "      <td>0.0</td>\n",
       "      <td>0.0</td>\n",
       "      <td>0.0</td>\n",
       "      <td>3.0</td>\n",
       "      <td>600.0</td>\n",
       "      <td>1150.0</td>\n",
       "    </tr>\n",
       "    <tr>\n",
       "      <th>3212</th>\n",
       "      <td>1494</td>\n",
       "      <td>11.0</td>\n",
       "      <td>0.0</td>\n",
       "      <td>63.0</td>\n",
       "      <td>411.0</td>\n",
       "      <td>18052.45</td>\n",
       "      <td>18.0</td>\n",
       "      <td>50</td>\n",
       "      <td>15360</td>\n",
       "      <td>500</td>\n",
       "      <td>...</td>\n",
       "      <td>Андропов</td>\n",
       "      <td>2018-08-17</td>\n",
       "      <td>8</td>\n",
       "      <td>0.0</td>\n",
       "      <td>0.0</td>\n",
       "      <td>0.0</td>\n",
       "      <td>0.0</td>\n",
       "      <td>3.0</td>\n",
       "      <td>600.0</td>\n",
       "      <td>1150.0</td>\n",
       "    </tr>\n",
       "    <tr>\n",
       "      <th>3213</th>\n",
       "      <td>1494</td>\n",
       "      <td>12.0</td>\n",
       "      <td>0.0</td>\n",
       "      <td>62.0</td>\n",
       "      <td>418.0</td>\n",
       "      <td>17621.21</td>\n",
       "      <td>18.0</td>\n",
       "      <td>50</td>\n",
       "      <td>15360</td>\n",
       "      <td>500</td>\n",
       "      <td>...</td>\n",
       "      <td>Андропов</td>\n",
       "      <td>2018-08-17</td>\n",
       "      <td>8</td>\n",
       "      <td>0.0</td>\n",
       "      <td>0.0</td>\n",
       "      <td>0.0</td>\n",
       "      <td>0.0</td>\n",
       "      <td>3.0</td>\n",
       "      <td>600.0</td>\n",
       "      <td>1150.0</td>\n",
       "    </tr>\n",
       "    <tr>\n",
       "      <th>3214</th>\n",
       "      <td>1371</td>\n",
       "      <td>NaN</td>\n",
       "      <td>0.0</td>\n",
       "      <td>0.0</td>\n",
       "      <td>0.0</td>\n",
       "      <td>0.00</td>\n",
       "      <td>0.0</td>\n",
       "      <td>50</td>\n",
       "      <td>15360</td>\n",
       "      <td>500</td>\n",
       "      <td>...</td>\n",
       "      <td>Трофимов</td>\n",
       "      <td>2018-12-25</td>\n",
       "      <td>12</td>\n",
       "      <td>0.0</td>\n",
       "      <td>0.0</td>\n",
       "      <td>0.0</td>\n",
       "      <td>0.0</td>\n",
       "      <td>0.0</td>\n",
       "      <td>0.0</td>\n",
       "      <td>550.0</td>\n",
       "    </tr>\n",
       "    <tr>\n",
       "      <th>3215</th>\n",
       "      <td>1128</td>\n",
       "      <td>NaN</td>\n",
       "      <td>0.0</td>\n",
       "      <td>0.0</td>\n",
       "      <td>0.0</td>\n",
       "      <td>0.00</td>\n",
       "      <td>0.0</td>\n",
       "      <td>1000</td>\n",
       "      <td>30720</td>\n",
       "      <td>3000</td>\n",
       "      <td>...</td>\n",
       "      <td>Агаева</td>\n",
       "      <td>2018-12-15</td>\n",
       "      <td>12</td>\n",
       "      <td>0.0</td>\n",
       "      <td>0.0</td>\n",
       "      <td>0.0</td>\n",
       "      <td>0.0</td>\n",
       "      <td>0.0</td>\n",
       "      <td>0.0</td>\n",
       "      <td>1950.0</td>\n",
       "    </tr>\n",
       "  </tbody>\n",
       "</table>\n",
       "<p>3216 rows × 29 columns</p>\n",
       "</div>"
      ],
      "text/plain": [
       "      user_id  month_x  message_count  duration_sum  duration_count   mb_used  \\\n",
       "0        1000      5.0           22.0          22.0           159.0   2253.49   \n",
       "1        1000      6.0           60.0          43.0           172.0  23233.77   \n",
       "2        1000      7.0           75.0          47.0           340.0  14003.64   \n",
       "3        1000      8.0           81.0          52.0           408.0  14055.93   \n",
       "4        1000      9.0           57.0          58.0           466.0  14568.91   \n",
       "...       ...      ...            ...           ...             ...       ...   \n",
       "3211     1494     10.0            0.0          52.0           354.0  17767.24   \n",
       "3212     1494     11.0            0.0          63.0           411.0  18052.45   \n",
       "3213     1494     12.0            0.0          62.0           418.0  17621.21   \n",
       "3214     1371      NaN            0.0           0.0             0.0      0.00   \n",
       "3215     1128      NaN            0.0           0.0             0.0      0.00   \n",
       "\n",
       "      gb_used  messages_included  mb_per_month_included  minutes_included  \\\n",
       "0         3.0               1000                  30720              3000   \n",
       "1        23.0               1000                  30720              3000   \n",
       "2        14.0               1000                  30720              3000   \n",
       "3        14.0               1000                  30720              3000   \n",
       "4        15.0               1000                  30720              3000   \n",
       "...       ...                ...                    ...               ...   \n",
       "3211     18.0                 50                  15360               500   \n",
       "3212     18.0                 50                  15360               500   \n",
       "3213     18.0                 50                  15360               500   \n",
       "3214      0.0                 50                  15360               500   \n",
       "3215      0.0               1000                  30720              3000   \n",
       "\n",
       "      ...  last_name   reg_date  month_y  minutes_over pay_calls  sms_over  \\\n",
       "0     ...  Верещагин 2018-05-25        5           0.0       0.0       0.0   \n",
       "1     ...  Верещагин 2018-05-25        5           0.0       0.0       0.0   \n",
       "2     ...  Верещагин 2018-05-25        5           0.0       0.0       0.0   \n",
       "3     ...  Верещагин 2018-05-25        5           0.0       0.0       0.0   \n",
       "4     ...  Верещагин 2018-05-25        5           0.0       0.0       0.0   \n",
       "...   ...        ...        ...      ...           ...       ...       ...   \n",
       "3211  ...   Андропов 2018-08-17        8           0.0       0.0       0.0   \n",
       "3212  ...   Андропов 2018-08-17        8           0.0       0.0       0.0   \n",
       "3213  ...   Андропов 2018-08-17        8           0.0       0.0       0.0   \n",
       "3214  ...   Трофимов 2018-12-25       12           0.0       0.0       0.0   \n",
       "3215  ...     Агаева 2018-12-15       12           0.0       0.0       0.0   \n",
       "\n",
       "     pay_sms gb_over pay_gb     pay  \n",
       "0        0.0     0.0    0.0  1950.0  \n",
       "1        0.0     0.0    0.0  1950.0  \n",
       "2        0.0     0.0    0.0  1950.0  \n",
       "3        0.0     0.0    0.0  1950.0  \n",
       "4        0.0     0.0    0.0  1950.0  \n",
       "...      ...     ...    ...     ...  \n",
       "3211     0.0     3.0  600.0  1150.0  \n",
       "3212     0.0     3.0  600.0  1150.0  \n",
       "3213     0.0     3.0  600.0  1150.0  \n",
       "3214     0.0     0.0    0.0   550.0  \n",
       "3215     0.0     0.0    0.0  1950.0  \n",
       "\n",
       "[3216 rows x 29 columns]"
      ]
     },
     "metadata": {},
     "output_type": "display_data"
    }
   ],
   "source": [
    "# выручка_звонки\n",
    "data['minutes_over'] = (-data['minutes_included'] + data['duration_sum'] )  # минуты сверх пакета\n",
    "data.loc[data['minutes_over'] < 0, 'minutes_over'] = 0                     #уложились в тариф и заплятят только абонентскую плату\n",
    "data['pay_calls'] =  (data['minutes_over'])*data['rub_per_minute']   # плата сверх пакета\n",
    "# выручка_смс\n",
    "data['sms_over'] = (-data['messages_included'] + data['message_count'] )  # смс сверх пакета\n",
    "data.loc[data['sms_over'] < 0, 'sms_over'] = 0                     #уложились в тариф и заплятят только абонентскую плату\n",
    "data['pay_sms'] = (data['sms_over'])*data['rub_per_message']   # плата сверх пакета\n",
    "# выручка_интернет-трафик\n",
    "data['gb_over'] = (-data['mb_per_month_included']/1024 + data['gb_used'] )  # ГБ сверх пакета\n",
    "data.loc[data['gb_over'] < 0, 'gb_over'] = 0                     #уложились в тариф и заплятят только абонентскую плату\n",
    "data['pay_gb'] =  (data['gb_over'])*data['rub_per_gb']   # плата сверх пакета\n",
    "data['pay'] = data['rub_monthly_fee'] + data['pay_calls'] + data['pay_sms'] + data['pay_gb'] # общая плата с пользователя\n",
    "display(data)\n",
    "#data['pay'].unique()"
   ]
  },
  {
   "cell_type": "markdown",
   "metadata": {},
   "source": [
    "Посчитали для каждого пользователя: количество сделанных звонков и израсходованных минут разговора по месяцам; количество отправленных сообщений по месяцам; объем израсходованного интернет-трафика по месяцам; помесячную выручку с каждого пользователя - столбец pay, как видим, не все пользователи уложились в выделяемые тарифом нормы."
   ]
  },
  {
   "cell_type": "markdown",
   "metadata": {},
   "source": [
    "## Анализ данных\n"
   ]
  },
  {
   "cell_type": "code",
   "execution_count": 16,
   "metadata": {},
   "outputs": [
    {
     "data": {
      "text/plain": [
       "'Количество минут в месяц'"
      ]
     },
     "metadata": {},
     "output_type": "display_data"
    },
    {
     "data": {
      "text/html": [
       "<div>\n",
       "<style scoped>\n",
       "    .dataframe tbody tr th:only-of-type {\n",
       "        vertical-align: middle;\n",
       "    }\n",
       "\n",
       "    .dataframe tbody tr th {\n",
       "        vertical-align: top;\n",
       "    }\n",
       "\n",
       "    .dataframe thead th {\n",
       "        text-align: right;\n",
       "    }\n",
       "</style>\n",
       "<table border=\"1\" class=\"dataframe\">\n",
       "  <thead>\n",
       "    <tr style=\"text-align: right;\">\n",
       "      <th></th>\n",
       "      <th>count</th>\n",
       "      <th>mean</th>\n",
       "      <th>std</th>\n",
       "      <th>min</th>\n",
       "      <th>25%</th>\n",
       "      <th>50%</th>\n",
       "      <th>75%</th>\n",
       "      <th>max</th>\n",
       "    </tr>\n",
       "    <tr>\n",
       "      <th>tariff_name</th>\n",
       "      <th></th>\n",
       "      <th></th>\n",
       "      <th></th>\n",
       "      <th></th>\n",
       "      <th></th>\n",
       "      <th></th>\n",
       "      <th></th>\n",
       "      <th></th>\n",
       "    </tr>\n",
       "  </thead>\n",
       "  <tbody>\n",
       "    <tr>\n",
       "      <th>smart</th>\n",
       "      <td>2230.0</td>\n",
       "      <td>58.437220</td>\n",
       "      <td>25.963572</td>\n",
       "      <td>0.0</td>\n",
       "      <td>40.0</td>\n",
       "      <td>60.0</td>\n",
       "      <td>76.00</td>\n",
       "      <td>198.0</td>\n",
       "    </tr>\n",
       "    <tr>\n",
       "      <th>ultra</th>\n",
       "      <td>986.0</td>\n",
       "      <td>73.318458</td>\n",
       "      <td>43.956739</td>\n",
       "      <td>0.0</td>\n",
       "      <td>41.0</td>\n",
       "      <td>73.5</td>\n",
       "      <td>103.75</td>\n",
       "      <td>244.0</td>\n",
       "    </tr>\n",
       "  </tbody>\n",
       "</table>\n",
       "</div>"
      ],
      "text/plain": [
       "              count       mean        std  min   25%   50%     75%    max\n",
       "tariff_name                                                              \n",
       "smart        2230.0  58.437220  25.963572  0.0  40.0  60.0   76.00  198.0\n",
       "ultra         986.0  73.318458  43.956739  0.0  41.0  73.5  103.75  244.0"
      ]
     },
     "metadata": {},
     "output_type": "display_data"
    },
    {
     "data": {
      "text/html": [
       "<div>\n",
       "<style scoped>\n",
       "    .dataframe tbody tr th:only-of-type {\n",
       "        vertical-align: middle;\n",
       "    }\n",
       "\n",
       "    .dataframe tbody tr th {\n",
       "        vertical-align: top;\n",
       "    }\n",
       "\n",
       "    .dataframe thead tr th {\n",
       "        text-align: left;\n",
       "    }\n",
       "\n",
       "    .dataframe thead tr:last-of-type th {\n",
       "        text-align: right;\n",
       "    }\n",
       "</style>\n",
       "<table border=\"1\" class=\"dataframe\">\n",
       "  <thead>\n",
       "    <tr>\n",
       "      <th></th>\n",
       "      <th colspan=\"3\" halign=\"left\">duration_sum</th>\n",
       "    </tr>\n",
       "    <tr>\n",
       "      <th></th>\n",
       "      <th>mean</th>\n",
       "      <th>std</th>\n",
       "      <th>var</th>\n",
       "    </tr>\n",
       "    <tr>\n",
       "      <th>tariff_name</th>\n",
       "      <th></th>\n",
       "      <th></th>\n",
       "      <th></th>\n",
       "    </tr>\n",
       "  </thead>\n",
       "  <tbody>\n",
       "    <tr>\n",
       "      <th>smart</th>\n",
       "      <td>58.437220</td>\n",
       "      <td>25.963572</td>\n",
       "      <td>674.107093</td>\n",
       "    </tr>\n",
       "    <tr>\n",
       "      <th>ultra</th>\n",
       "      <td>73.318458</td>\n",
       "      <td>43.956739</td>\n",
       "      <td>1932.194928</td>\n",
       "    </tr>\n",
       "  </tbody>\n",
       "</table>\n",
       "</div>"
      ],
      "text/plain": [
       "            duration_sum                        \n",
       "                    mean        std          var\n",
       "tariff_name                                     \n",
       "smart          58.437220  25.963572   674.107093\n",
       "ultra          73.318458  43.956739  1932.194928"
      ]
     },
     "metadata": {},
     "output_type": "display_data"
    },
    {
     "data": {
      "text/plain": [
       "<matplotlib.legend.Legend at 0x2289a386280>"
      ]
     },
     "execution_count": 16,
     "metadata": {},
     "output_type": "execute_result"
    },
    {
     "data": {
      "image/png": "[encoded data removed]",
      "text/plain": [
       "<Figure size 648x648 with 1 Axes>"
      ]
     },
     "metadata": {
      "needs_background": "light"
     },
     "output_type": "display_data"
    }
   ],
   "source": [
    "\n",
    "# Статистические значения\n",
    "display('Количество минут в месяц',data.groupby('tariff_name')['duration_sum'].describe())\n",
    "# среднее, дисперсия , стандартное отклонение\n",
    "display(data.groupby('tariff_name').agg({'duration_sum': ['mean', 'std', 'var']}))\n",
    "#гистограммы с частотой распределения\n",
    "ax = data[data['tariff_name']=='smart']['duration_sum'].hist(bins = 30, alpha = 0.5,figsize = (9, 9), label = 'smart')\n",
    "data[data['tariff_name']=='ultra']['duration_sum'].hist(ax=ax, bins = 30, alpha = 0.5, figsize = (9, 9), label = 'ultra')\n",
    "ax.vlines(500, 0, 250, colors='red')\n",
    "ax.vlines(3000, 0, 250, colors='green')\n",
    "plt.text(3010, 230, 'Ultra limit')\n",
    "plt.text(510, 230, 'Smart limit')\n",
    "plt.title('Распределение звонков')\n",
    "plt.xlabel('количество минут')\n",
    "plt.ylabel('частота')\n",
    "\n",
    "plt.legend()\n",
    "\n",
    "\n"
   ]
  },
  {
   "cell_type": "markdown",
   "metadata": {},
   "source": [
    "Продолжительность звонков в месяц в среднем у Ultra 526мин, у Smart 417, в Smart входит 500 минут в тариф и 25% не укладываются в эти минуты. Ultra лимит 3000мин, а максимальное значение выборки 1673, значит все укладываются в тариф. Вариация у Ultra больше smart, значит значения более разбросаны относительно среднего. Распределение на гистограммы частот выглядят как нормальное, тариф ultra более \"расплющен\" и имеет хвост длиннее.\n"
   ]
  },
  {
   "cell_type": "code",
   "execution_count": 17,
   "metadata": {},
   "outputs": [
    {
     "data": {
      "text/plain": [
       "'Количество сообщений'"
      ]
     },
     "metadata": {},
     "output_type": "display_data"
    },
    {
     "data": {
      "text/html": [
       "<div>\n",
       "<style scoped>\n",
       "    .dataframe tbody tr th:only-of-type {\n",
       "        vertical-align: middle;\n",
       "    }\n",
       "\n",
       "    .dataframe tbody tr th {\n",
       "        vertical-align: top;\n",
       "    }\n",
       "\n",
       "    .dataframe thead th {\n",
       "        text-align: right;\n",
       "    }\n",
       "</style>\n",
       "<table border=\"1\" class=\"dataframe\">\n",
       "  <thead>\n",
       "    <tr style=\"text-align: right;\">\n",
       "      <th></th>\n",
       "      <th>count</th>\n",
       "      <th>mean</th>\n",
       "      <th>std</th>\n",
       "      <th>min</th>\n",
       "      <th>25%</th>\n",
       "      <th>50%</th>\n",
       "      <th>75%</th>\n",
       "      <th>max</th>\n",
       "    </tr>\n",
       "    <tr>\n",
       "      <th>tariff_name</th>\n",
       "      <th></th>\n",
       "      <th></th>\n",
       "      <th></th>\n",
       "      <th></th>\n",
       "      <th></th>\n",
       "      <th></th>\n",
       "      <th></th>\n",
       "      <th></th>\n",
       "    </tr>\n",
       "  </thead>\n",
       "  <tbody>\n",
       "    <tr>\n",
       "      <th>smart</th>\n",
       "      <td>2230.0</td>\n",
       "      <td>33.369058</td>\n",
       "      <td>28.230396</td>\n",
       "      <td>0.0</td>\n",
       "      <td>10.0</td>\n",
       "      <td>28.0</td>\n",
       "      <td>51.00</td>\n",
       "      <td>143.0</td>\n",
       "    </tr>\n",
       "    <tr>\n",
       "      <th>ultra</th>\n",
       "      <td>986.0</td>\n",
       "      <td>49.313387</td>\n",
       "      <td>47.806040</td>\n",
       "      <td>0.0</td>\n",
       "      <td>6.0</td>\n",
       "      <td>38.0</td>\n",
       "      <td>78.75</td>\n",
       "      <td>224.0</td>\n",
       "    </tr>\n",
       "  </tbody>\n",
       "</table>\n",
       "</div>"
      ],
      "text/plain": [
       "              count       mean        std  min   25%   50%    75%    max\n",
       "tariff_name                                                             \n",
       "smart        2230.0  33.369058  28.230396  0.0  10.0  28.0  51.00  143.0\n",
       "ultra         986.0  49.313387  47.806040  0.0   6.0  38.0  78.75  224.0"
      ]
     },
     "metadata": {},
     "output_type": "display_data"
    },
    {
     "data": {
      "text/html": [
       "<div>\n",
       "<style scoped>\n",
       "    .dataframe tbody tr th:only-of-type {\n",
       "        vertical-align: middle;\n",
       "    }\n",
       "\n",
       "    .dataframe tbody tr th {\n",
       "        vertical-align: top;\n",
       "    }\n",
       "\n",
       "    .dataframe thead tr th {\n",
       "        text-align: left;\n",
       "    }\n",
       "\n",
       "    .dataframe thead tr:last-of-type th {\n",
       "        text-align: right;\n",
       "    }\n",
       "</style>\n",
       "<table border=\"1\" class=\"dataframe\">\n",
       "  <thead>\n",
       "    <tr>\n",
       "      <th></th>\n",
       "      <th colspan=\"3\" halign=\"left\">message_count</th>\n",
       "    </tr>\n",
       "    <tr>\n",
       "      <th></th>\n",
       "      <th>mean</th>\n",
       "      <th>std</th>\n",
       "      <th>var</th>\n",
       "    </tr>\n",
       "    <tr>\n",
       "      <th>tariff_name</th>\n",
       "      <th></th>\n",
       "      <th></th>\n",
       "      <th></th>\n",
       "    </tr>\n",
       "  </thead>\n",
       "  <tbody>\n",
       "    <tr>\n",
       "      <th>smart</th>\n",
       "      <td>33.369058</td>\n",
       "      <td>28.230396</td>\n",
       "      <td>796.955256</td>\n",
       "    </tr>\n",
       "    <tr>\n",
       "      <th>ultra</th>\n",
       "      <td>49.313387</td>\n",
       "      <td>47.806040</td>\n",
       "      <td>2285.417425</td>\n",
       "    </tr>\n",
       "  </tbody>\n",
       "</table>\n",
       "</div>"
      ],
      "text/plain": [
       "            message_count                        \n",
       "                     mean        std          var\n",
       "tariff_name                                      \n",
       "smart           33.369058  28.230396   796.955256\n",
       "ultra           49.313387  47.806040  2285.417425"
      ]
     },
     "metadata": {},
     "output_type": "display_data"
    },
    {
     "data": {
      "text/plain": [
       "<matplotlib.legend.Legend at 0x22899432790>"
      ]
     },
     "execution_count": 17,
     "metadata": {},
     "output_type": "execute_result"
    },
    {
     "data": {
      "image/png": "[encoded data removed]",
      "text/plain": [
       "<Figure size 648x648 with 1 Axes>"
      ]
     },
     "metadata": {
      "needs_background": "light"
     },
     "output_type": "display_data"
    }
   ],
   "source": [
    "plt.show()\n",
    "display('Количество сообщений', data.groupby('tariff_name')['message_count'].describe())\n",
    "display(data.groupby('tariff_name').agg({'message_count': ['mean', 'std', 'var']}))\n",
    "\n",
    "ax = data[data['tariff_name']=='smart']['message_count'].hist(bins = 30, alpha = 0.5,figsize = (9, 9), label = 'smart')\n",
    "data[data['tariff_name']=='ultra']['message_count'].hist(ax=ax, bins = 30, alpha = 0.5, figsize = (9, 9), label = 'ultra')\n",
    "ax.vlines(50, 0, 400, colors='red')\n",
    "ax.vlines(1000, 0, 400, colors='green')\n",
    "plt.text(1010, 390, 'Ultra limit')\n",
    "plt.text(60, 390, 'Smart limit')\n",
    "plt.title('Распределение смс')\n",
    "plt.xlabel('количество сообщений')\n",
    "plt.ylabel('частота')\n",
    "plt.legend()"
   ]
  },
  {
   "cell_type": "markdown",
   "metadata": {},
   "source": [
    "СМС: По тарифу smart - 50, ultra - 1000 , среднее значение smart - 33 , ultra - 49, в 75% в смарте 51смс, т.е. 25% не уложились в отведённое пакетом количество, в ультра максимум 224 смс в месяц. По гистограмме частот - самое большое количество у 0 и рядом (редко/не пользуются смс), далее идёт по убывающей, больше 100 пишут редкие клиенты, больше 200 единицы. "
   ]
  },
  {
   "cell_type": "code",
   "execution_count": 18,
   "metadata": {},
   "outputs": [
    {
     "data": {
      "text/plain": [
       "'Количество ГБ в месяц'"
      ]
     },
     "metadata": {},
     "output_type": "display_data"
    },
    {
     "data": {
      "text/html": [
       "<div>\n",
       "<style scoped>\n",
       "    .dataframe tbody tr th:only-of-type {\n",
       "        vertical-align: middle;\n",
       "    }\n",
       "\n",
       "    .dataframe tbody tr th {\n",
       "        vertical-align: top;\n",
       "    }\n",
       "\n",
       "    .dataframe thead th {\n",
       "        text-align: right;\n",
       "    }\n",
       "</style>\n",
       "<table border=\"1\" class=\"dataframe\">\n",
       "  <thead>\n",
       "    <tr style=\"text-align: right;\">\n",
       "      <th></th>\n",
       "      <th>count</th>\n",
       "      <th>mean</th>\n",
       "      <th>std</th>\n",
       "      <th>min</th>\n",
       "      <th>25%</th>\n",
       "      <th>50%</th>\n",
       "      <th>75%</th>\n",
       "      <th>max</th>\n",
       "    </tr>\n",
       "    <tr>\n",
       "      <th>tariff_name</th>\n",
       "      <th></th>\n",
       "      <th></th>\n",
       "      <th></th>\n",
       "      <th></th>\n",
       "      <th></th>\n",
       "      <th></th>\n",
       "      <th></th>\n",
       "      <th></th>\n",
       "    </tr>\n",
       "  </thead>\n",
       "  <tbody>\n",
       "    <tr>\n",
       "      <th>smart</th>\n",
       "      <td>2230.0</td>\n",
       "      <td>16.321525</td>\n",
       "      <td>5.756167</td>\n",
       "      <td>0.0</td>\n",
       "      <td>13.0</td>\n",
       "      <td>17.0</td>\n",
       "      <td>20.0</td>\n",
       "      <td>38.0</td>\n",
       "    </tr>\n",
       "    <tr>\n",
       "      <th>ultra</th>\n",
       "      <td>986.0</td>\n",
       "      <td>19.474645</td>\n",
       "      <td>9.868057</td>\n",
       "      <td>0.0</td>\n",
       "      <td>12.0</td>\n",
       "      <td>19.0</td>\n",
       "      <td>27.0</td>\n",
       "      <td>49.0</td>\n",
       "    </tr>\n",
       "  </tbody>\n",
       "</table>\n",
       "</div>"
      ],
      "text/plain": [
       "              count       mean       std  min   25%   50%   75%   max\n",
       "tariff_name                                                          \n",
       "smart        2230.0  16.321525  5.756167  0.0  13.0  17.0  20.0  38.0\n",
       "ultra         986.0  19.474645  9.868057  0.0  12.0  19.0  27.0  49.0"
      ]
     },
     "metadata": {},
     "output_type": "display_data"
    },
    {
     "data": {
      "text/html": [
       "<div>\n",
       "<style scoped>\n",
       "    .dataframe tbody tr th:only-of-type {\n",
       "        vertical-align: middle;\n",
       "    }\n",
       "\n",
       "    .dataframe tbody tr th {\n",
       "        vertical-align: top;\n",
       "    }\n",
       "\n",
       "    .dataframe thead tr th {\n",
       "        text-align: left;\n",
       "    }\n",
       "\n",
       "    .dataframe thead tr:last-of-type th {\n",
       "        text-align: right;\n",
       "    }\n",
       "</style>\n",
       "<table border=\"1\" class=\"dataframe\">\n",
       "  <thead>\n",
       "    <tr>\n",
       "      <th></th>\n",
       "      <th colspan=\"3\" halign=\"left\">gb_used</th>\n",
       "    </tr>\n",
       "    <tr>\n",
       "      <th></th>\n",
       "      <th>mean</th>\n",
       "      <th>std</th>\n",
       "      <th>var</th>\n",
       "    </tr>\n",
       "    <tr>\n",
       "      <th>tariff_name</th>\n",
       "      <th></th>\n",
       "      <th></th>\n",
       "      <th></th>\n",
       "    </tr>\n",
       "  </thead>\n",
       "  <tbody>\n",
       "    <tr>\n",
       "      <th>smart</th>\n",
       "      <td>16.321525</td>\n",
       "      <td>5.756167</td>\n",
       "      <td>33.133453</td>\n",
       "    </tr>\n",
       "    <tr>\n",
       "      <th>ultra</th>\n",
       "      <td>19.474645</td>\n",
       "      <td>9.868057</td>\n",
       "      <td>97.378544</td>\n",
       "    </tr>\n",
       "  </tbody>\n",
       "</table>\n",
       "</div>"
      ],
      "text/plain": [
       "               gb_used                     \n",
       "                  mean       std        var\n",
       "tariff_name                                \n",
       "smart        16.321525  5.756167  33.133453\n",
       "ultra        19.474645  9.868057  97.378544"
      ]
     },
     "metadata": {},
     "output_type": "display_data"
    },
    {
     "data": {
      "text/plain": [
       "<matplotlib.legend.Legend at 0x2289971efa0>"
      ]
     },
     "execution_count": 18,
     "metadata": {},
     "output_type": "execute_result"
    },
    {
     "data": {
      "image/png": "[encoded data removed]",
      "text/plain": [
       "<Figure size 648x648 with 1 Axes>"
      ]
     },
     "metadata": {
      "needs_background": "light"
     },
     "output_type": "display_data"
    }
   ],
   "source": [
    "plt.show()\n",
    "\n",
    "display('Количество ГБ в месяц', data.groupby('tariff_name')['gb_used'].describe())\n",
    "display(data.groupby('tariff_name').agg({'gb_used': ['mean', 'std', 'var']}))\n",
    "\n",
    "ax = data[data['tariff_name']=='smart']['gb_used'].hist(bins = 30, alpha = 0.5,figsize = (9, 9), label = 'smart')\n",
    "data[data['tariff_name']=='ultra']['gb_used'].hist(ax=ax, bins = 30, alpha = 0.5, figsize = (9, 9), label = 'ultra')\n",
    "ax.vlines(15, 0, 300, colors='red')\n",
    "ax.vlines(30, 0, 300, colors='green')\n",
    "plt.text(20,290, 'Ultra limit')\n",
    "plt.text(35, 290, 'Smart limit')\n",
    "plt.title('Распределение интернет-трафика')\n",
    "plt.xlabel('количество ГБ')\n",
    "plt.ylabel('частота')\n",
    "plt.legend()"
   ]
  },
  {
   "cell_type": "markdown",
   "metadata": {},
   "source": [
    "интернет-трафик: По тарифу smart - 15ГБ, ultra - 30ГБ , среднее значение smart - 16 , ultra - 19,5ГБ, больше 50% выходят за границы трафика в тарифе smart, в ultra меньше 25%. Дисперсия также больше в 3 раза у ultra, значит значения более разбросаны. Гистограмма частот достигает максимума 15-20ГБ. распределение похоже на нормальное.\n",
    "По трём разрезам видим, что график частот у тарифа ultra более расплющен и имеет хвост длиннее."
   ]
  },
  {
   "cell_type": "code",
   "execution_count": 19,
   "metadata": {},
   "outputs": [
    {
     "data": {
      "text/plain": [
       "'Плата в месяц'"
      ]
     },
     "metadata": {},
     "output_type": "display_data"
    },
    {
     "data": {
      "text/html": [
       "<div>\n",
       "<style scoped>\n",
       "    .dataframe tbody tr th:only-of-type {\n",
       "        vertical-align: middle;\n",
       "    }\n",
       "\n",
       "    .dataframe tbody tr th {\n",
       "        vertical-align: top;\n",
       "    }\n",
       "\n",
       "    .dataframe thead th {\n",
       "        text-align: right;\n",
       "    }\n",
       "</style>\n",
       "<table border=\"1\" class=\"dataframe\">\n",
       "  <thead>\n",
       "    <tr style=\"text-align: right;\">\n",
       "      <th></th>\n",
       "      <th>count</th>\n",
       "      <th>mean</th>\n",
       "      <th>std</th>\n",
       "      <th>min</th>\n",
       "      <th>25%</th>\n",
       "      <th>50%</th>\n",
       "      <th>75%</th>\n",
       "      <th>max</th>\n",
       "    </tr>\n",
       "    <tr>\n",
       "      <th>tariff_name</th>\n",
       "      <th></th>\n",
       "      <th></th>\n",
       "      <th></th>\n",
       "      <th></th>\n",
       "      <th></th>\n",
       "      <th></th>\n",
       "      <th></th>\n",
       "      <th></th>\n",
       "    </tr>\n",
       "  </thead>\n",
       "  <tbody>\n",
       "    <tr>\n",
       "      <th>smart</th>\n",
       "      <td>2230.0</td>\n",
       "      <td>1164.880717</td>\n",
       "      <td>740.505211</td>\n",
       "      <td>550.0</td>\n",
       "      <td>550.0</td>\n",
       "      <td>950.0</td>\n",
       "      <td>1550.0</td>\n",
       "      <td>5249.0</td>\n",
       "    </tr>\n",
       "    <tr>\n",
       "      <th>ultra</th>\n",
       "      <td>986.0</td>\n",
       "      <td>2070.030426</td>\n",
       "      <td>376.015578</td>\n",
       "      <td>1950.0</td>\n",
       "      <td>1950.0</td>\n",
       "      <td>1950.0</td>\n",
       "      <td>1950.0</td>\n",
       "      <td>4800.0</td>\n",
       "    </tr>\n",
       "  </tbody>\n",
       "</table>\n",
       "</div>"
      ],
      "text/plain": [
       "              count         mean         std     min     25%     50%     75%  \\\n",
       "tariff_name                                                                    \n",
       "smart        2230.0  1164.880717  740.505211   550.0   550.0   950.0  1550.0   \n",
       "ultra         986.0  2070.030426  376.015578  1950.0  1950.0  1950.0  1950.0   \n",
       "\n",
       "                max  \n",
       "tariff_name          \n",
       "smart        5249.0  \n",
       "ultra        4800.0  "
      ]
     },
     "metadata": {},
     "output_type": "display_data"
    },
    {
     "data": {
      "text/html": [
       "<div>\n",
       "<style scoped>\n",
       "    .dataframe tbody tr th:only-of-type {\n",
       "        vertical-align: middle;\n",
       "    }\n",
       "\n",
       "    .dataframe tbody tr th {\n",
       "        vertical-align: top;\n",
       "    }\n",
       "\n",
       "    .dataframe thead tr th {\n",
       "        text-align: left;\n",
       "    }\n",
       "\n",
       "    .dataframe thead tr:last-of-type th {\n",
       "        text-align: right;\n",
       "    }\n",
       "</style>\n",
       "<table border=\"1\" class=\"dataframe\">\n",
       "  <thead>\n",
       "    <tr>\n",
       "      <th></th>\n",
       "      <th colspan=\"3\" halign=\"left\">pay</th>\n",
       "    </tr>\n",
       "    <tr>\n",
       "      <th></th>\n",
       "      <th>mean</th>\n",
       "      <th>std</th>\n",
       "      <th>var</th>\n",
       "    </tr>\n",
       "    <tr>\n",
       "      <th>tariff_name</th>\n",
       "      <th></th>\n",
       "      <th></th>\n",
       "      <th></th>\n",
       "    </tr>\n",
       "  </thead>\n",
       "  <tbody>\n",
       "    <tr>\n",
       "      <th>smart</th>\n",
       "      <td>1164.880717</td>\n",
       "      <td>740.505211</td>\n",
       "      <td>548347.966923</td>\n",
       "    </tr>\n",
       "    <tr>\n",
       "      <th>ultra</th>\n",
       "      <td>2070.030426</td>\n",
       "      <td>376.015578</td>\n",
       "      <td>141387.714809</td>\n",
       "    </tr>\n",
       "  </tbody>\n",
       "</table>\n",
       "</div>"
      ],
      "text/plain": [
       "                     pay                           \n",
       "                    mean         std            var\n",
       "tariff_name                                        \n",
       "smart        1164.880717  740.505211  548347.966923\n",
       "ultra        2070.030426  376.015578  141387.714809"
      ]
     },
     "metadata": {},
     "output_type": "display_data"
    },
    {
     "data": {
      "text/plain": [
       "<matplotlib.legend.Legend at 0x22899acc640>"
      ]
     },
     "execution_count": 19,
     "metadata": {},
     "output_type": "execute_result"
    },
    {
     "data": {
      "image/png": "[encoded data removed]",
      "text/plain": [
       "<Figure size 720x720 with 1 Axes>"
      ]
     },
     "metadata": {
      "needs_background": "light"
     },
     "output_type": "display_data"
    }
   ],
   "source": [
    "display('Плата в месяц', data.groupby('tariff_name')['pay'].describe())\n",
    "display(data.groupby('tariff_name').agg({'pay': ['mean', 'std', 'var']}))\n",
    "\n",
    "ax = data[data['tariff_name']=='smart']['pay'].hist(bins = 30, alpha = 0.5,figsize = (10,10), label = 'smart')\n",
    "data[data['tariff_name']=='ultra']['pay'].hist(ax=ax, bins = 30, alpha = 0.5, figsize = (10, 10), label = 'ultra')\n",
    "plt.title('Распределение оплаты за месяц')\n",
    "plt.xlabel('выручка')\n",
    "plt.ylabel('частота')\n",
    "plt.legend()"
   ]
  },
  {
   "cell_type": "markdown",
   "metadata": {},
   "source": [
    "По диаграмме частот мы видим пиковые значения, которые равны абонентской плате за тариф, но также видим, что среднее по smart в два раза превышает 500 рублей, в то время как пользовалети ultra не сильно выходят за включенные в тариф нормативы.\n"
   ]
  },
  {
   "cell_type": "markdown",
   "metadata": {},
   "source": [
    "##  Проверка гипотез\n",
    "###  средняя выручка пользователей тарифов «Ультра» и «Смарт» различаются\n",
    "Нулевая гипотеза H₀ - средняя выручка пользователей тарифов \"Ультра\" и \"Смарт\" равна. Альтернативная гипотеза H₁ - средняя выручка пользователей тарифов \"Ультра\" и \"Смарт\" не равна\n"
   ]
  },
  {
   "cell_type": "code",
   "execution_count": 20,
   "metadata": {},
   "outputs": [
    {
     "data": {
      "text/html": [
       "<div>\n",
       "<style scoped>\n",
       "    .dataframe tbody tr th:only-of-type {\n",
       "        vertical-align: middle;\n",
       "    }\n",
       "\n",
       "    .dataframe tbody tr th {\n",
       "        vertical-align: top;\n",
       "    }\n",
       "\n",
       "    .dataframe thead tr th {\n",
       "        text-align: left;\n",
       "    }\n",
       "\n",
       "    .dataframe thead tr:last-of-type th {\n",
       "        text-align: right;\n",
       "    }\n",
       "</style>\n",
       "<table border=\"1\" class=\"dataframe\">\n",
       "  <thead>\n",
       "    <tr>\n",
       "      <th></th>\n",
       "      <th colspan=\"3\" halign=\"left\">pay</th>\n",
       "    </tr>\n",
       "    <tr>\n",
       "      <th></th>\n",
       "      <th>mean</th>\n",
       "      <th>var</th>\n",
       "      <th>std</th>\n",
       "    </tr>\n",
       "    <tr>\n",
       "      <th>tariff_name</th>\n",
       "      <th></th>\n",
       "      <th></th>\n",
       "      <th></th>\n",
       "    </tr>\n",
       "  </thead>\n",
       "  <tbody>\n",
       "    <tr>\n",
       "      <th>smart</th>\n",
       "      <td>1164.880717</td>\n",
       "      <td>548347.966923</td>\n",
       "      <td>740.505211</td>\n",
       "    </tr>\n",
       "    <tr>\n",
       "      <th>ultra</th>\n",
       "      <td>2070.030426</td>\n",
       "      <td>141387.714809</td>\n",
       "      <td>376.015578</td>\n",
       "    </tr>\n",
       "  </tbody>\n",
       "</table>\n",
       "</div>"
      ],
      "text/plain": [
       "                     pay                           \n",
       "                    mean            var         std\n",
       "tariff_name                                        \n",
       "smart        1164.880717  548347.966923  740.505211\n",
       "ultra        2070.030426  141387.714809  376.015578"
      ]
     },
     "metadata": {},
     "output_type": "display_data"
    },
    {
     "data": {
      "text/plain": [
       "8        550.0\n",
       "9       1150.0\n",
       "10      1550.0\n",
       "11       950.0\n",
       "12       550.0\n",
       "         ...  \n",
       "3210     950.0\n",
       "3211    1150.0\n",
       "3212    1150.0\n",
       "3213    1150.0\n",
       "3214     550.0\n",
       "Name: pay, Length: 2230, dtype: float64"
      ]
     },
     "metadata": {},
     "output_type": "display_data"
    },
    {
     "data": {
      "text/plain": [
       "0       1950.0\n",
       "1       1950.0\n",
       "2       1950.0\n",
       "3       1950.0\n",
       "4       1950.0\n",
       "         ...  \n",
       "3199    2400.0\n",
       "3200    2400.0\n",
       "3201    2700.0\n",
       "3202    1950.0\n",
       "3215    1950.0\n",
       "Name: pay, Length: 986, dtype: float64"
      ]
     },
     "metadata": {},
     "output_type": "display_data"
    },
    {
     "name": "stdout",
     "output_type": "stream",
     "text": [
      "p-значение:  8.348899169074068e-243\n",
      "Отвергаем нулевую гипотезу\n"
     ]
    }
   ],
   "source": [
    "\n",
    "\n",
    "display(data.groupby('tariff_name').agg({'pay': ['mean', 'var', 'std']}))\n",
    "alpha = 0.05 # критический уровень статистической значимости\n",
    "data_smart = data[data['tariff_name']=='smart']['pay']\n",
    "data_ultra = data[data['tariff_name']=='ultra']['pay']\n",
    "display(data_smart)\n",
    "display(data_ultra)\n",
    "results = st.ttest_ind(data_smart, data_ultra)\n",
    "\n",
    "print('p-значение: ', results.pvalue)\n",
    "\n",
    "if results.pvalue < alpha:\n",
    "    print(\"Отвергаем нулевую гипотезу\")\n",
    "else:\n",
    "    print(\"Не получилось отвергнуть нулевую гипотезу\")"
   ]
  },
  {
   "cell_type": "markdown",
   "metadata": {},
   "source": [
    "Проверка гипотезы о равенстве среднего двух генеральных совокупностей по взятым из них выборкам дала p-value очень близкий к 0, поэтому нулевая гипотеза отвергнута, значит средняя выручка пользователей тарифов \"Ультра\" и \"Смарт\" не равна."
   ]
  },
  {
   "cell_type": "markdown",
   "metadata": {},
   "source": [
    "### средняя выручка пользователей из Москвы отличается от выручки пользователей из других регионов.\n",
    "Нулевая гипотеза H₀ - средняя выручка пользователей из Москвы и средняя выручка пользователей не из Москвы равна. Альтернативная гипотеза H₁ - средняя выручка не равна"
   ]
  },
  {
   "cell_type": "code",
   "execution_count": 21,
   "metadata": {},
   "outputs": [
    {
     "data": {
      "text/plain": [
       "15      1950.0\n",
       "16      1950.0\n",
       "17      1950.0\n",
       "18      1950.0\n",
       "19      1950.0\n",
       "         ...  \n",
       "3171    1350.0\n",
       "3172    2150.0\n",
       "3173    1350.0\n",
       "3174    1750.0\n",
       "3175    2150.0\n",
       "Name: pay, Length: 611, dtype: float64"
      ]
     },
     "metadata": {},
     "output_type": "display_data"
    },
    {
     "data": {
      "text/plain": [
       "0       1950.0\n",
       "1       1950.0\n",
       "2       1950.0\n",
       "3       1950.0\n",
       "4       1950.0\n",
       "         ...  \n",
       "3211    1150.0\n",
       "3212    1150.0\n",
       "3213    1150.0\n",
       "3214     550.0\n",
       "3215    1950.0\n",
       "Name: pay, Length: 2605, dtype: float64"
      ]
     },
     "metadata": {},
     "output_type": "display_data"
    },
    {
     "name": "stdout",
     "output_type": "stream",
     "text": [
      "p-значение:  0.2939578849621331\n",
      "Не получилось отвергнуть нулевую гипотезу\n"
     ]
    }
   ],
   "source": [
    "alpha = 0.05 # критический уровень статистической значимости\n",
    "data_moscow = data[data['city']=='Москва']['pay']\n",
    "data_region = data[data['city']!='Москва']['pay']\n",
    "display(data_moscow)\n",
    "display(data_region)\n",
    "results = st.ttest_ind(data_moscow, data_region)\n",
    "\n",
    "print('p-значение: ', results.pvalue)\n",
    "\n",
    "if results.pvalue < alpha:\n",
    "    print(\"Отвергаем нулевую гипотезу\")\n",
    "else:\n",
    "    print(\"Не получилось отвергнуть нулевую гипотезу\")"
   ]
  },
  {
   "cell_type": "markdown",
   "metadata": {},
   "source": [
    "Проверка гипотезы о равенстве среднего двух генеральных совокупностей по взятым из них выборкам дала p-value = 0.54, что больше критический уровень статистической значимости, поэтому мы не можем отвергнуть нулевую гипотезу."
   ]
  },
  {
   "cell_type": "markdown",
   "metadata": {},
   "source": [
    "## Вывод\n",
    "По тарифу Ultra по смс и звонкам все укладываются в нормативы по пакету, есть только перерасход по интернет-трафику. В smart по pay дисперсия на порядок выше ultra, значит и разброс значений относительно среднего больше. По графику можем наблюдать, что хвост у smart очень длинный. Только 25% обходятся без дополнительных платных услуг, 75% платят сверх абонентской платы. Среднее значение оплаты smart 1289 руб. Гипотеза о равенстве среднего двух генеральных совокупностей отвергнута,  средняя выручка пользователей тарифов \"Ультра\" и \"Смарт\" не равна. Тариф smart приносит больше денег."
   ]
  }
 ],
 "metadata": {
  "ExecuteTimeLog": [
   {
    "duration": 932,
    "start_time": "2021-12-17T12:38:22.860Z"
   },
   {
    "duration": 399,
    "start_time": "2021-12-17T12:39:07.958Z"
   },
   {
    "duration": 428,
    "start_time": "2021-12-17T12:40:42.417Z"
   },
   {
    "duration": 453,
    "start_time": "2021-12-17T12:43:39.253Z"
   },
   {
    "duration": 259,
    "start_time": "2021-12-17T13:36:49.703Z"
   },
   {
    "duration": 24,
    "start_time": "2021-12-17T13:37:03.599Z"
   },
   {
    "duration": 1070,
    "start_time": "2021-12-20T14:56:32.360Z"
   },
   {
    "duration": 8,
    "start_time": "2021-12-20T14:56:33.432Z"
   },
   {
    "duration": 9,
    "start_time": "2021-12-20T14:57:24.052Z"
   },
   {
    "duration": 10,
    "start_time": "2021-12-20T14:58:11.320Z"
   },
   {
    "duration": 365,
    "start_time": "2021-12-20T14:58:33.290Z"
   },
   {
    "duration": 292,
    "start_time": "2021-12-20T14:58:49.706Z"
   },
   {
    "duration": 14,
    "start_time": "2021-12-20T14:59:04.094Z"
   },
   {
    "duration": 81,
    "start_time": "2021-12-20T15:05:04.308Z"
   },
   {
    "duration": 1100,
    "start_time": "2021-12-20T17:28:43.709Z"
   },
   {
    "duration": 7791,
    "start_time": "2021-12-20T17:28:44.811Z"
   },
   {
    "duration": 106,
    "start_time": "2021-12-20T17:29:12.572Z"
   },
   {
    "duration": 5,
    "start_time": "2021-12-20T17:44:59.914Z"
   },
   {
    "duration": 17,
    "start_time": "2021-12-20T17:45:12.015Z"
   },
   {
    "duration": 14,
    "start_time": "2021-12-20T17:56:46.103Z"
   },
   {
    "duration": 803,
    "start_time": "2021-12-20T17:57:41.348Z"
   },
   {
    "duration": 882,
    "start_time": "2021-12-20T17:58:09.759Z"
   },
   {
    "duration": 798,
    "start_time": "2021-12-20T18:01:38.200Z"
   },
   {
    "duration": 1149,
    "start_time": "2021-12-20T18:01:51.354Z"
   },
   {
    "duration": 1094,
    "start_time": "2021-12-20T18:02:23.583Z"
   },
   {
    "duration": 145,
    "start_time": "2021-12-20T18:02:24.679Z"
   },
   {
    "duration": 15,
    "start_time": "2021-12-20T18:02:24.827Z"
   },
   {
    "duration": 18,
    "start_time": "2021-12-20T18:02:40.231Z"
   },
   {
    "duration": 33,
    "start_time": "2021-12-20T18:02:46.235Z"
   },
   {
    "duration": 7471,
    "start_time": "2021-12-20T18:05:03.939Z"
   },
   {
    "duration": 7775,
    "start_time": "2021-12-20T18:05:34.215Z"
   },
   {
    "duration": 21,
    "start_time": "2021-12-20T18:06:18.839Z"
   },
   {
    "duration": 22,
    "start_time": "2021-12-20T18:06:57.301Z"
   },
   {
    "duration": 21,
    "start_time": "2021-12-20T18:07:05.519Z"
   },
   {
    "duration": 30,
    "start_time": "2021-12-20T18:07:28.075Z"
   },
   {
    "duration": 28,
    "start_time": "2021-12-20T18:07:40.370Z"
   },
   {
    "duration": 22,
    "start_time": "2021-12-20T18:08:02.217Z"
   },
   {
    "duration": 16,
    "start_time": "2021-12-20T18:09:26.846Z"
   },
   {
    "duration": 27,
    "start_time": "2021-12-20T18:13:38.406Z"
   },
   {
    "duration": 7262,
    "start_time": "2021-12-20T18:13:58.580Z"
   },
   {
    "duration": 1081,
    "start_time": "2021-12-20T18:16:34.741Z"
   },
   {
    "duration": 148,
    "start_time": "2021-12-20T18:16:35.823Z"
   },
   {
    "duration": 52,
    "start_time": "2021-12-20T18:16:35.973Z"
   },
   {
    "duration": 8590,
    "start_time": "2021-12-20T18:16:54.225Z"
   },
   {
    "duration": 1077,
    "start_time": "2021-12-20T18:17:39.744Z"
   },
   {
    "duration": 196,
    "start_time": "2021-12-20T18:17:40.824Z"
   },
   {
    "duration": 57,
    "start_time": "2021-12-20T18:17:41.023Z"
   },
   {
    "duration": 15950,
    "start_time": "2021-12-20T18:20:16.529Z"
   },
   {
    "duration": 1080,
    "start_time": "2021-12-20T18:22:15.134Z"
   },
   {
    "duration": 140,
    "start_time": "2021-12-20T18:22:16.216Z"
   },
   {
    "duration": 60,
    "start_time": "2021-12-20T18:22:16.358Z"
   },
   {
    "duration": 105,
    "start_time": "2021-12-20T18:24:13.435Z"
   },
   {
    "duration": 8538,
    "start_time": "2021-12-20T18:24:20.980Z"
   },
   {
    "duration": 1067,
    "start_time": "2021-12-20T18:24:40.138Z"
   },
   {
    "duration": 135,
    "start_time": "2021-12-20T18:24:41.207Z"
   },
   {
    "duration": 66,
    "start_time": "2021-12-20T18:24:41.345Z"
   },
   {
    "duration": 19,
    "start_time": "2021-12-20T18:26:20.987Z"
   },
   {
    "duration": 8580,
    "start_time": "2021-12-20T18:28:15.472Z"
   },
   {
    "duration": 1085,
    "start_time": "2021-12-20T18:29:28.109Z"
   },
   {
    "duration": 142,
    "start_time": "2021-12-20T18:29:29.207Z"
   },
   {
    "duration": 72,
    "start_time": "2021-12-20T18:29:29.351Z"
   },
   {
    "duration": 1132,
    "start_time": "2021-12-20T18:32:50.493Z"
   },
   {
    "duration": 133,
    "start_time": "2021-12-20T18:32:51.627Z"
   },
   {
    "duration": 474,
    "start_time": "2021-12-20T18:32:51.762Z"
   },
   {
    "duration": 7881,
    "start_time": "2021-12-20T18:33:29.270Z"
   },
   {
    "duration": 1072,
    "start_time": "2021-12-20T18:34:21.730Z"
   },
   {
    "duration": 140,
    "start_time": "2021-12-20T18:34:22.807Z"
   },
   {
    "duration": 466,
    "start_time": "2021-12-20T18:34:22.950Z"
   },
   {
    "duration": 1240,
    "start_time": "2021-12-20T18:44:27.870Z"
   },
   {
    "duration": 138,
    "start_time": "2021-12-20T18:44:29.112Z"
   },
   {
    "duration": 109,
    "start_time": "2021-12-20T18:44:29.253Z"
   },
   {
    "duration": 64,
    "start_time": "2021-12-20T18:44:42.923Z"
   },
   {
    "duration": 7574,
    "start_time": "2021-12-20T18:45:48.638Z"
   },
   {
    "duration": 319,
    "start_time": "2021-12-20T18:46:10.092Z"
   },
   {
    "duration": 296,
    "start_time": "2021-12-20T18:47:40.174Z"
   },
   {
    "duration": 8014,
    "start_time": "2021-12-20T18:49:54.625Z"
   },
   {
    "duration": 1233,
    "start_time": "2021-12-20T18:50:05.273Z"
   },
   {
    "duration": 148,
    "start_time": "2021-12-20T18:50:06.508Z"
   },
   {
    "duration": 379,
    "start_time": "2021-12-20T18:50:06.658Z"
   },
   {
    "duration": 32,
    "start_time": "2021-12-20T18:51:17.450Z"
   },
   {
    "duration": 37,
    "start_time": "2021-12-20T18:52:03.165Z"
   },
   {
    "duration": 448,
    "start_time": "2021-12-20T18:52:13.250Z"
   },
   {
    "duration": 448,
    "start_time": "2021-12-20T18:52:29.426Z"
   },
   {
    "duration": 29,
    "start_time": "2021-12-20T18:52:58.071Z"
   },
   {
    "duration": 27,
    "start_time": "2021-12-20T18:53:19.008Z"
   },
   {
    "duration": 27,
    "start_time": "2021-12-20T18:54:23.051Z"
   },
   {
    "duration": 291,
    "start_time": "2021-12-20T18:54:35.167Z"
   },
   {
    "duration": 8641,
    "start_time": "2021-12-20T18:54:59.298Z"
   },
   {
    "duration": 95,
    "start_time": "2021-12-20T18:55:54.432Z"
   },
   {
    "duration": 865,
    "start_time": "2021-12-20T18:56:02.528Z"
   },
   {
    "duration": 7139,
    "start_time": "2021-12-20T18:56:23.436Z"
   },
   {
    "duration": 1053,
    "start_time": "2021-12-20T19:35:41.628Z"
   },
   {
    "duration": 153,
    "start_time": "2021-12-20T19:35:42.683Z"
   },
   {
    "duration": 50,
    "start_time": "2021-12-20T19:35:42.838Z"
   },
   {
    "duration": 25,
    "start_time": "2021-12-20T19:37:20.270Z"
   },
   {
    "duration": 10058,
    "start_time": "2021-12-20T19:38:34.349Z"
   },
   {
    "duration": 1095,
    "start_time": "2021-12-20T19:38:52.070Z"
   },
   {
    "duration": 149,
    "start_time": "2021-12-20T19:38:53.167Z"
   },
   {
    "duration": 9877,
    "start_time": "2021-12-20T19:38:53.318Z"
   },
   {
    "duration": 10279,
    "start_time": "2021-12-20T19:39:32.817Z"
   },
   {
    "duration": 99,
    "start_time": "2021-12-20T19:41:09.738Z"
   },
   {
    "duration": 294,
    "start_time": "2021-12-20T19:41:28.922Z"
   },
   {
    "duration": 9821,
    "start_time": "2021-12-20T19:42:27.261Z"
   },
   {
    "duration": 7962,
    "start_time": "2021-12-20T19:43:08.697Z"
   },
   {
    "duration": 27,
    "start_time": "2021-12-20T19:43:47.138Z"
   },
   {
    "duration": 28,
    "start_time": "2021-12-20T19:44:04.397Z"
   },
   {
    "duration": 1114,
    "start_time": "2021-12-20T19:44:48.330Z"
   },
   {
    "duration": 166,
    "start_time": "2021-12-20T19:44:49.446Z"
   },
   {
    "duration": 663,
    "start_time": "2021-12-20T19:44:49.614Z"
   },
   {
    "duration": 1101,
    "start_time": "2021-12-20T19:45:24.790Z"
   },
   {
    "duration": 141,
    "start_time": "2021-12-20T19:45:25.907Z"
   },
   {
    "duration": 75,
    "start_time": "2021-12-20T19:45:26.050Z"
   },
   {
    "duration": 26,
    "start_time": "2021-12-20T19:53:49.993Z"
   },
   {
    "duration": 33,
    "start_time": "2021-12-20T19:53:57.926Z"
   },
   {
    "duration": 34,
    "start_time": "2021-12-20T19:54:35.690Z"
   },
   {
    "duration": 61,
    "start_time": "2021-12-20T19:55:46.114Z"
   },
   {
    "duration": 1158,
    "start_time": "2021-12-20T19:56:32.179Z"
   },
   {
    "duration": 152,
    "start_time": "2021-12-20T19:56:33.339Z"
   },
   {
    "duration": 99,
    "start_time": "2021-12-20T19:56:33.494Z"
   },
   {
    "duration": 8250,
    "start_time": "2021-12-20T19:56:49.324Z"
   },
   {
    "duration": 1096,
    "start_time": "2021-12-20T19:57:08.628Z"
   },
   {
    "duration": 144,
    "start_time": "2021-12-20T19:57:09.726Z"
   },
   {
    "duration": 102,
    "start_time": "2021-12-20T19:57:09.872Z"
   },
   {
    "duration": 1257,
    "start_time": "2021-12-20T20:01:37.887Z"
   },
   {
    "duration": 162,
    "start_time": "2021-12-20T20:01:39.147Z"
   },
   {
    "duration": 502,
    "start_time": "2021-12-20T20:01:39.311Z"
   },
   {
    "duration": 1249,
    "start_time": "2021-12-20T20:03:58.786Z"
   },
   {
    "duration": 170,
    "start_time": "2021-12-20T20:04:00.038Z"
   },
   {
    "duration": 463,
    "start_time": "2021-12-20T20:04:00.210Z"
   },
   {
    "duration": 9804,
    "start_time": "2021-12-20T20:04:56.550Z"
   },
   {
    "duration": 1251,
    "start_time": "2021-12-20T20:05:11.728Z"
   },
   {
    "duration": 192,
    "start_time": "2021-12-20T20:05:12.981Z"
   },
   {
    "duration": 110,
    "start_time": "2021-12-20T20:05:13.176Z"
   },
   {
    "duration": 1557,
    "start_time": "2021-12-20T20:07:34.698Z"
   },
   {
    "duration": 172,
    "start_time": "2021-12-20T20:07:36.257Z"
   },
   {
    "duration": 485,
    "start_time": "2021-12-20T20:07:36.431Z"
   },
   {
    "duration": 1265,
    "start_time": "2021-12-20T20:08:07.219Z"
   },
   {
    "duration": 193,
    "start_time": "2021-12-20T20:08:08.487Z"
   },
   {
    "duration": 155,
    "start_time": "2021-12-20T20:08:08.683Z"
   },
   {
    "duration": 1883,
    "start_time": "2021-12-20T20:10:08.163Z"
   },
   {
    "duration": 173,
    "start_time": "2021-12-20T20:10:10.051Z"
   },
   {
    "duration": 22238,
    "start_time": "2021-12-20T20:10:10.226Z"
   },
   {
    "duration": 1285,
    "start_time": "2021-12-20T20:10:39.976Z"
   },
   {
    "duration": 175,
    "start_time": "2021-12-20T20:10:41.263Z"
   },
   {
    "duration": 143,
    "start_time": "2021-12-20T20:10:41.440Z"
   },
   {
    "duration": 1421,
    "start_time": "2021-12-21T12:45:45.110Z"
   },
   {
    "duration": 206,
    "start_time": "2021-12-21T12:45:46.534Z"
   },
   {
    "duration": 177,
    "start_time": "2021-12-21T12:45:46.743Z"
   },
   {
    "duration": 1458,
    "start_time": "2021-12-21T12:58:06.426Z"
   },
   {
    "duration": 216,
    "start_time": "2021-12-21T12:58:07.887Z"
   },
   {
    "duration": 559,
    "start_time": "2021-12-21T12:58:08.121Z"
   },
   {
    "duration": 1401,
    "start_time": "2021-12-21T12:59:28.835Z"
   },
   {
    "duration": 208,
    "start_time": "2021-12-21T12:59:30.239Z"
   },
   {
    "duration": 530,
    "start_time": "2021-12-21T12:59:30.453Z"
   },
   {
    "duration": 1384,
    "start_time": "2021-12-21T13:00:43.984Z"
   },
   {
    "duration": 213,
    "start_time": "2021-12-21T13:00:45.370Z"
   },
   {
    "duration": 530,
    "start_time": "2021-12-21T13:00:45.586Z"
   },
   {
    "duration": 1415,
    "start_time": "2021-12-21T13:07:09.770Z"
   },
   {
    "duration": 221,
    "start_time": "2021-12-21T13:07:11.188Z"
   },
   {
    "duration": 558,
    "start_time": "2021-12-21T13:07:11.417Z"
   },
   {
    "duration": 1419,
    "start_time": "2021-12-21T13:07:45.998Z"
   },
   {
    "duration": 209,
    "start_time": "2021-12-21T13:07:47.420Z"
   },
   {
    "duration": 202,
    "start_time": "2021-12-21T13:07:47.632Z"
   },
   {
    "duration": 1394,
    "start_time": "2021-12-21T14:03:21.054Z"
   },
   {
    "duration": 212,
    "start_time": "2021-12-21T14:03:22.450Z"
   },
   {
    "duration": 191,
    "start_time": "2021-12-21T14:03:22.665Z"
   },
   {
    "duration": 1486,
    "start_time": "2021-12-21T14:04:35.681Z"
   },
   {
    "duration": 221,
    "start_time": "2021-12-21T14:04:37.170Z"
   },
   {
    "duration": 212,
    "start_time": "2021-12-21T14:04:37.393Z"
   },
   {
    "duration": 1426,
    "start_time": "2021-12-21T14:17:23.457Z"
   },
   {
    "duration": 236,
    "start_time": "2021-12-21T14:17:24.886Z"
   },
   {
    "duration": 215,
    "start_time": "2021-12-21T14:17:25.125Z"
   },
   {
    "duration": 1442,
    "start_time": "2021-12-21T14:20:02.576Z"
   },
   {
    "duration": 221,
    "start_time": "2021-12-21T14:20:04.022Z"
   },
   {
    "duration": 547,
    "start_time": "2021-12-21T14:20:04.245Z"
   },
   {
    "duration": 7525,
    "start_time": "2021-12-21T14:42:04.795Z"
   },
   {
    "duration": 1467,
    "start_time": "2021-12-21T14:42:15.590Z"
   },
   {
    "duration": 219,
    "start_time": "2021-12-21T14:42:17.060Z"
   },
   {
    "duration": 495,
    "start_time": "2021-12-21T14:42:17.281Z"
   },
   {
    "duration": 1784,
    "start_time": "2021-12-21T14:43:03.172Z"
   },
   {
    "duration": 222,
    "start_time": "2021-12-21T14:43:04.958Z"
   },
   {
    "duration": 198,
    "start_time": "2021-12-21T14:43:05.183Z"
   },
   {
    "duration": 54,
    "start_time": "2021-12-21T14:45:30.854Z"
   },
   {
    "duration": 43,
    "start_time": "2021-12-21T14:45:48.899Z"
   },
   {
    "duration": 1495,
    "start_time": "2021-12-21T14:46:45.097Z"
   },
   {
    "duration": 246,
    "start_time": "2021-12-21T14:46:46.596Z"
   },
   {
    "duration": 256,
    "start_time": "2021-12-21T14:46:46.845Z"
   },
   {
    "duration": 51,
    "start_time": "2021-12-21T14:46:47.104Z"
   },
   {
    "duration": 1428,
    "start_time": "2021-12-21T14:48:51.366Z"
   },
   {
    "duration": 291,
    "start_time": "2021-12-21T14:48:52.796Z"
   },
   {
    "duration": 298,
    "start_time": "2021-12-21T14:48:53.091Z"
   },
   {
    "duration": 58,
    "start_time": "2021-12-21T14:48:53.391Z"
   },
   {
    "duration": 1686,
    "start_time": "2021-12-21T14:51:19.757Z"
   },
   {
    "duration": 218,
    "start_time": "2021-12-21T14:51:21.447Z"
   },
   {
    "duration": 308,
    "start_time": "2021-12-21T14:51:21.668Z"
   },
   {
    "duration": 61,
    "start_time": "2021-12-21T14:51:21.978Z"
   },
   {
    "duration": 1382,
    "start_time": "2021-12-21T15:56:57.755Z"
   },
   {
    "duration": 203,
    "start_time": "2021-12-21T15:56:59.140Z"
   },
   {
    "duration": 282,
    "start_time": "2021-12-21T15:56:59.346Z"
   },
   {
    "duration": 42,
    "start_time": "2021-12-21T15:56:59.630Z"
   },
   {
    "duration": 1389,
    "start_time": "2021-12-21T15:58:41.746Z"
   },
   {
    "duration": 204,
    "start_time": "2021-12-21T15:58:43.138Z"
   },
   {
    "duration": 277,
    "start_time": "2021-12-21T15:58:43.345Z"
   },
   {
    "duration": 43,
    "start_time": "2021-12-21T15:58:43.624Z"
   },
   {
    "duration": 1396,
    "start_time": "2021-12-21T16:00:02.162Z"
   },
   {
    "duration": 266,
    "start_time": "2021-12-21T16:00:03.561Z"
   },
   {
    "duration": 251,
    "start_time": "2021-12-21T16:00:03.830Z"
   },
   {
    "duration": 55,
    "start_time": "2021-12-21T16:00:04.084Z"
   },
   {
    "duration": 1544,
    "start_time": "2021-12-21T16:01:07.105Z"
   },
   {
    "duration": 288,
    "start_time": "2021-12-21T16:01:08.653Z"
   },
   {
    "duration": 321,
    "start_time": "2021-12-21T16:01:08.945Z"
   },
   {
    "duration": 55,
    "start_time": "2021-12-21T16:01:09.269Z"
   },
   {
    "duration": 1203,
    "start_time": "2021-12-21T18:45:23.282Z"
   },
   {
    "duration": 159,
    "start_time": "2021-12-21T18:45:24.487Z"
   },
   {
    "duration": 171,
    "start_time": "2021-12-21T18:45:24.649Z"
   },
   {
    "duration": 340,
    "start_time": "2021-12-21T18:45:24.822Z"
   },
   {
    "duration": 4,
    "start_time": "2021-12-21T18:45:44.002Z"
   },
   {
    "duration": 6,
    "start_time": "2021-12-21T18:45:56.588Z"
   },
   {
    "duration": 224,
    "start_time": "2021-12-21T19:07:17.814Z"
   },
   {
    "duration": 34,
    "start_time": "2021-12-21T19:08:31.772Z"
   },
   {
    "duration": 337,
    "start_time": "2021-12-21T19:09:14.077Z"
   },
   {
    "duration": 41,
    "start_time": "2021-12-21T19:12:24.087Z"
   },
   {
    "duration": 1045,
    "start_time": "2021-12-21T19:12:52.222Z"
   },
   {
    "duration": 140,
    "start_time": "2021-12-21T19:12:53.269Z"
   },
   {
    "duration": 165,
    "start_time": "2021-12-21T19:12:53.411Z"
   },
   {
    "duration": 294,
    "start_time": "2021-12-21T19:12:53.579Z"
   },
   {
    "duration": -665,
    "start_time": "2021-12-21T19:12:54.540Z"
   },
   {
    "duration": 1920,
    "start_time": "2021-12-22T11:23:41.187Z"
   },
   {
    "duration": 296,
    "start_time": "2021-12-22T11:23:43.111Z"
   },
   {
    "duration": 263,
    "start_time": "2021-12-22T11:23:43.410Z"
   },
   {
    "duration": 469,
    "start_time": "2021-12-22T11:23:43.675Z"
   },
   {
    "duration": -27,
    "start_time": "2021-12-22T11:23:44.174Z"
   },
   {
    "duration": 78,
    "start_time": "2021-12-22T11:27:37.862Z"
   },
   {
    "duration": 256,
    "start_time": "2021-12-22T11:28:11.886Z"
   },
   {
    "duration": 26,
    "start_time": "2021-12-22T11:28:24.975Z"
   },
   {
    "duration": 33,
    "start_time": "2021-12-22T11:29:14.795Z"
   },
   {
    "duration": 307,
    "start_time": "2021-12-22T11:35:26.942Z"
   },
   {
    "duration": 688,
    "start_time": "2021-12-22T11:35:43.328Z"
   },
   {
    "duration": 436,
    "start_time": "2021-12-22T11:36:46.418Z"
   },
   {
    "duration": 527,
    "start_time": "2021-12-22T11:37:04.996Z"
   },
   {
    "duration": 591,
    "start_time": "2021-12-22T11:39:00.843Z"
   },
   {
    "duration": 675,
    "start_time": "2021-12-22T11:41:13.395Z"
   },
   {
    "duration": 1268,
    "start_time": "2021-12-22T11:41:37.657Z"
   },
   {
    "duration": 1333,
    "start_time": "2021-12-22T13:26:17.656Z"
   },
   {
    "duration": 1521,
    "start_time": "2021-12-22T13:27:06.781Z"
   },
   {
    "duration": 1566,
    "start_time": "2021-12-22T13:29:10.646Z"
   },
   {
    "duration": 1710,
    "start_time": "2021-12-22T13:30:45.889Z"
   },
   {
    "duration": 392,
    "start_time": "2021-12-22T13:32:30.392Z"
   },
   {
    "duration": 423,
    "start_time": "2021-12-22T13:33:15.748Z"
   },
   {
    "duration": 350,
    "start_time": "2021-12-22T13:34:16.015Z"
   },
   {
    "duration": 300,
    "start_time": "2021-12-22T13:34:38.877Z"
   },
   {
    "duration": 1551,
    "start_time": "2021-12-22T13:35:07.797Z"
   },
   {
    "duration": 2136,
    "start_time": "2021-12-22T13:35:57.579Z"
   },
   {
    "duration": 1639,
    "start_time": "2021-12-22T13:36:38.783Z"
   },
   {
    "duration": 2002,
    "start_time": "2021-12-22T13:37:39.889Z"
   },
   {
    "duration": 1844,
    "start_time": "2021-12-22T13:39:45.949Z"
   },
   {
    "duration": 9520,
    "start_time": "2021-12-22T13:42:57.838Z"
   },
   {
    "duration": 59071,
    "start_time": "2021-12-22T13:47:47.029Z"
   },
   {
    "duration": 60511,
    "start_time": "2021-12-22T13:49:01.081Z"
   },
   {
    "duration": 57735,
    "start_time": "2021-12-22T13:50:09.619Z"
   },
   {
    "duration": 56958,
    "start_time": "2021-12-22T13:51:07.746Z"
   },
   {
    "duration": 495,
    "start_time": "2021-12-22T13:53:54.954Z"
   },
   {
    "duration": 402,
    "start_time": "2021-12-22T13:54:20.293Z"
   },
   {
    "duration": 337,
    "start_time": "2021-12-22T13:55:24.403Z"
   },
   {
    "duration": 1004,
    "start_time": "2021-12-22T13:56:56.715Z"
   },
   {
    "duration": 83,
    "start_time": "2021-12-22T14:38:00.653Z"
   },
   {
    "duration": 1463,
    "start_time": "2021-12-22T14:38:47.526Z"
   },
   {
    "duration": 214,
    "start_time": "2021-12-22T14:38:48.992Z"
   },
   {
    "duration": 338,
    "start_time": "2021-12-22T14:38:49.210Z"
   },
   {
    "duration": 133,
    "start_time": "2021-12-22T14:38:49.551Z"
   },
   {
    "duration": -922,
    "start_time": "2021-12-22T14:38:50.608Z"
   },
   {
    "duration": 64,
    "start_time": "2021-12-22T14:39:09.543Z"
   },
   {
    "duration": 55,
    "start_time": "2021-12-22T14:41:05.884Z"
   },
   {
    "duration": 55,
    "start_time": "2021-12-22T15:08:43.892Z"
   },
   {
    "duration": 478,
    "start_time": "2021-12-22T15:09:56.947Z"
   },
   {
    "duration": 86,
    "start_time": "2021-12-22T15:10:08.316Z"
   },
   {
    "duration": 64,
    "start_time": "2021-12-22T15:10:40.252Z"
   },
   {
    "duration": 57,
    "start_time": "2021-12-22T15:15:29.687Z"
   },
   {
    "duration": 63,
    "start_time": "2021-12-22T15:16:34.534Z"
   },
   {
    "duration": 56,
    "start_time": "2021-12-22T15:17:20.216Z"
   },
   {
    "duration": 100,
    "start_time": "2021-12-22T15:29:06.598Z"
   },
   {
    "duration": 40,
    "start_time": "2021-12-22T15:30:01.352Z"
   },
   {
    "duration": 53,
    "start_time": "2021-12-22T15:30:28.939Z"
   },
   {
    "duration": 21,
    "start_time": "2021-12-22T15:30:47.550Z"
   },
   {
    "duration": 90,
    "start_time": "2021-12-22T15:31:03.892Z"
   },
   {
    "duration": 73,
    "start_time": "2021-12-22T15:31:27.062Z"
   },
   {
    "duration": 71,
    "start_time": "2021-12-22T15:34:07.338Z"
   },
   {
    "duration": 503,
    "start_time": "2021-12-22T15:44:49.494Z"
   },
   {
    "duration": 38,
    "start_time": "2021-12-22T15:49:18.473Z"
   },
   {
    "duration": 2170,
    "start_time": "2021-12-22T15:52:24.706Z"
   },
   {
    "duration": 216,
    "start_time": "2021-12-22T15:52:26.880Z"
   },
   {
    "duration": 266,
    "start_time": "2021-12-22T15:52:27.099Z"
   },
   {
    "duration": 75,
    "start_time": "2021-12-22T15:52:27.368Z"
   },
   {
    "duration": 2654,
    "start_time": "2021-12-22T15:52:27.445Z"
   },
   {
    "duration": 505,
    "start_time": "2021-12-22T15:52:30.102Z"
   },
   {
    "duration": 25412,
    "start_time": "2021-12-22T16:03:57.286Z"
   },
   {
    "duration": 1700,
    "start_time": "2021-12-22T16:04:30.620Z"
   },
   {
    "duration": 249,
    "start_time": "2021-12-22T16:04:32.323Z"
   },
   {
    "duration": 697,
    "start_time": "2021-12-22T16:04:32.576Z"
   },
   {
    "duration": 17,
    "start_time": "2021-12-22T16:04:33.259Z"
   },
   {
    "duration": 13,
    "start_time": "2021-12-22T16:04:33.264Z"
   },
   {
    "duration": 10,
    "start_time": "2021-12-22T16:04:33.268Z"
   },
   {
    "duration": 1505,
    "start_time": "2021-12-22T16:05:42.072Z"
   },
   {
    "duration": 209,
    "start_time": "2021-12-22T16:05:43.580Z"
   },
   {
    "duration": 297,
    "start_time": "2021-12-22T16:05:43.792Z"
   },
   {
    "duration": 87,
    "start_time": "2021-12-22T16:05:44.092Z"
   },
   {
    "duration": 2787,
    "start_time": "2021-12-22T16:05:44.182Z"
   },
   {
    "duration": 480,
    "start_time": "2021-12-22T16:05:46.971Z"
   },
   {
    "duration": 21,
    "start_time": "2021-12-22T17:46:13.683Z"
   },
   {
    "duration": 61,
    "start_time": "2021-12-22T18:03:58.664Z"
   },
   {
    "duration": 1348,
    "start_time": "2021-12-22T18:04:15.970Z"
   },
   {
    "duration": 212,
    "start_time": "2021-12-22T18:04:17.322Z"
   },
   {
    "duration": 326,
    "start_time": "2021-12-22T18:04:17.538Z"
   },
   {
    "duration": 73,
    "start_time": "2021-12-22T18:04:17.868Z"
   },
   {
    "duration": 2704,
    "start_time": "2021-12-22T18:04:17.944Z"
   },
   {
    "duration": 459,
    "start_time": "2021-12-22T18:04:20.651Z"
   },
   {
    "duration": 49,
    "start_time": "2021-12-22T18:04:21.113Z"
   },
   {
    "duration": 691,
    "start_time": "2021-12-22T18:08:12.472Z"
   },
   {
    "duration": 361,
    "start_time": "2021-12-22T18:16:53.176Z"
   },
   {
    "duration": 243,
    "start_time": "2021-12-22T18:17:02.745Z"
   },
   {
    "duration": 241,
    "start_time": "2021-12-22T18:17:49.538Z"
   },
   {
    "duration": 271,
    "start_time": "2021-12-22T18:21:05.914Z"
   },
   {
    "duration": 1374,
    "start_time": "2021-12-22T18:21:37.564Z"
   },
   {
    "duration": 213,
    "start_time": "2021-12-22T18:21:38.941Z"
   },
   {
    "duration": 274,
    "start_time": "2021-12-22T18:21:39.164Z"
   },
   {
    "duration": 83,
    "start_time": "2021-12-22T18:21:39.440Z"
   },
   {
    "duration": 3173,
    "start_time": "2021-12-22T18:21:39.525Z"
   },
   {
    "duration": 617,
    "start_time": "2021-12-22T18:21:42.702Z"
   },
   {
    "duration": 45,
    "start_time": "2021-12-22T18:21:43.322Z"
   },
   {
    "duration": 7642,
    "start_time": "2021-12-22T18:24:11.892Z"
   },
   {
    "duration": 1645,
    "start_time": "2021-12-22T18:24:23.785Z"
   },
   {
    "duration": 291,
    "start_time": "2021-12-22T18:24:25.433Z"
   },
   {
    "duration": 323,
    "start_time": "2021-12-22T18:24:25.728Z"
   },
   {
    "duration": 111,
    "start_time": "2021-12-22T18:24:26.054Z"
   },
   {
    "duration": 3028,
    "start_time": "2021-12-22T18:24:26.167Z"
   },
   {
    "duration": 604,
    "start_time": "2021-12-22T18:24:29.198Z"
   },
   {
    "duration": 26,
    "start_time": "2021-12-22T18:24:29.805Z"
   },
   {
    "duration": 1368,
    "start_time": "2021-12-22T18:28:45.461Z"
   },
   {
    "duration": 216,
    "start_time": "2021-12-22T18:28:46.832Z"
   },
   {
    "duration": 6744,
    "start_time": "2021-12-22T18:28:47.066Z"
   },
   {
    "duration": 58,
    "start_time": "2021-12-22T18:28:53.755Z"
   },
   {
    "duration": 56,
    "start_time": "2021-12-22T18:28:53.759Z"
   },
   {
    "duration": 50,
    "start_time": "2021-12-22T18:28:53.766Z"
   },
   {
    "duration": 49,
    "start_time": "2021-12-22T18:28:53.769Z"
   },
   {
    "duration": 6601,
    "start_time": "2021-12-22T18:29:37.346Z"
   },
   {
    "duration": 1415,
    "start_time": "2021-12-22T18:29:46.753Z"
   },
   {
    "duration": 207,
    "start_time": "2021-12-22T18:29:48.171Z"
   },
   {
    "duration": 289,
    "start_time": "2021-12-22T18:29:48.382Z"
   },
   {
    "duration": 7697,
    "start_time": "2021-12-22T18:29:48.674Z"
   },
   {
    "duration": 58,
    "start_time": "2021-12-22T18:29:56.316Z"
   },
   {
    "duration": 58,
    "start_time": "2021-12-22T18:29:56.318Z"
   },
   {
    "duration": 55,
    "start_time": "2021-12-22T18:29:56.324Z"
   },
   {
    "duration": 7530,
    "start_time": "2021-12-22T18:31:58.111Z"
   },
   {
    "duration": 71,
    "start_time": "2021-12-22T18:32:38.183Z"
   },
   {
    "duration": 6594,
    "start_time": "2021-12-22T18:34:15.035Z"
   },
   {
    "duration": 2479,
    "start_time": "2021-12-22T18:34:47.840Z"
   },
   {
    "duration": 476,
    "start_time": "2021-12-22T18:35:31.925Z"
   },
   {
    "duration": 20,
    "start_time": "2021-12-22T18:35:47.999Z"
   },
   {
    "duration": 2947,
    "start_time": "2021-12-22T19:32:03.013Z"
   },
   {
    "duration": 1539,
    "start_time": "2021-12-23T06:59:55.045Z"
   },
   {
    "duration": 217,
    "start_time": "2021-12-23T06:59:56.586Z"
   },
   {
    "duration": 236,
    "start_time": "2021-12-23T06:59:56.806Z"
   },
   {
    "duration": 81,
    "start_time": "2021-12-23T06:59:57.045Z"
   },
   {
    "duration": 2640,
    "start_time": "2021-12-23T06:59:57.129Z"
   },
   {
    "duration": 547,
    "start_time": "2021-12-23T06:59:59.772Z"
   },
   {
    "duration": 20,
    "start_time": "2021-12-23T07:00:00.321Z"
   },
   {
    "duration": 3003,
    "start_time": "2021-12-23T07:12:11.011Z"
   },
   {
    "duration": 3795,
    "start_time": "2021-12-23T07:12:42.698Z"
   },
   {
    "duration": 3186,
    "start_time": "2021-12-23T07:21:16.847Z"
   },
   {
    "duration": 3175,
    "start_time": "2021-12-23T07:22:07.838Z"
   },
   {
    "duration": 1318,
    "start_time": "2021-12-23T07:23:35.853Z"
   },
   {
    "duration": 1231,
    "start_time": "2021-12-23T07:24:23.376Z"
   },
   {
    "duration": 2832,
    "start_time": "2021-12-23T07:24:38.394Z"
   },
   {
    "duration": 2836,
    "start_time": "2021-12-23T07:25:04.034Z"
   },
   {
    "duration": 993,
    "start_time": "2021-12-23T07:25:46.016Z"
   },
   {
    "duration": 2683,
    "start_time": "2021-12-23T07:26:02.931Z"
   },
   {
    "duration": 3231,
    "start_time": "2021-12-23T07:29:34.051Z"
   },
   {
    "duration": 1063,
    "start_time": "2021-12-23T07:31:46.843Z"
   },
   {
    "duration": 1306,
    "start_time": "2021-12-23T07:32:23.954Z"
   },
   {
    "duration": 109,
    "start_time": "2021-12-23T07:34:46.537Z"
   },
   {
    "duration": 117,
    "start_time": "2021-12-23T07:35:03.587Z"
   },
   {
    "duration": 106,
    "start_time": "2021-12-23T07:35:19.747Z"
   },
   {
    "duration": 2993,
    "start_time": "2021-12-23T07:35:32.048Z"
   },
   {
    "duration": 2723,
    "start_time": "2021-12-23T07:37:15.844Z"
   },
   {
    "duration": 1069,
    "start_time": "2021-12-23T07:40:05.029Z"
   },
   {
    "duration": 3018,
    "start_time": "2021-12-23T07:53:33.065Z"
   },
   {
    "duration": 3270,
    "start_time": "2021-12-23T07:53:59.158Z"
   },
   {
    "duration": 1295,
    "start_time": "2021-12-23T07:55:06.337Z"
   },
   {
    "duration": 60649,
    "start_time": "2021-12-23T07:55:27.320Z"
   },
   {
    "duration": 2634,
    "start_time": "2021-12-23T07:56:33.039Z"
   },
   {
    "duration": 5225,
    "start_time": "2021-12-23T08:01:33.538Z"
   },
   {
    "duration": 2603,
    "start_time": "2021-12-23T08:01:57.049Z"
   },
   {
    "duration": 142,
    "start_time": "2021-12-23T08:47:41.100Z"
   },
   {
    "duration": 114,
    "start_time": "2021-12-23T08:47:55.111Z"
   },
   {
    "duration": 802,
    "start_time": "2021-12-23T08:48:05.715Z"
   },
   {
    "duration": 2564,
    "start_time": "2021-12-23T08:48:26.094Z"
   },
   {
    "duration": 2218,
    "start_time": "2021-12-23T08:50:39.176Z"
   },
   {
    "duration": 1527,
    "start_time": "2021-12-23T08:57:33.065Z"
   },
   {
    "duration": 231,
    "start_time": "2021-12-23T08:57:34.594Z"
   },
   {
    "duration": 275,
    "start_time": "2021-12-23T08:57:34.828Z"
   },
   {
    "duration": 97,
    "start_time": "2021-12-23T08:57:35.106Z"
   },
   {
    "duration": 853,
    "start_time": "2021-12-23T08:57:35.205Z"
   },
   {
    "duration": 797,
    "start_time": "2021-12-23T08:57:36.060Z"
   },
   {
    "duration": 730,
    "start_time": "2021-12-23T08:57:36.867Z"
   },
   {
    "duration": 536,
    "start_time": "2021-12-23T08:57:37.600Z"
   },
   {
    "duration": 44,
    "start_time": "2021-12-23T08:57:38.138Z"
   },
   {
    "duration": 1463,
    "start_time": "2021-12-23T12:14:38.332Z"
   },
   {
    "duration": 219,
    "start_time": "2021-12-23T12:14:39.798Z"
   },
   {
    "duration": 220,
    "start_time": "2021-12-23T12:14:40.020Z"
   },
   {
    "duration": 86,
    "start_time": "2021-12-23T12:14:40.243Z"
   },
   {
    "duration": 767,
    "start_time": "2021-12-23T12:14:40.332Z"
   },
   {
    "duration": 703,
    "start_time": "2021-12-23T12:14:41.101Z"
   },
   {
    "duration": 690,
    "start_time": "2021-12-23T12:14:41.808Z"
   },
   {
    "duration": 504,
    "start_time": "2021-12-23T12:14:42.502Z"
   },
   {
    "duration": 22,
    "start_time": "2021-12-23T12:14:43.009Z"
   },
   {
    "duration": 682,
    "start_time": "2021-12-23T12:20:00.471Z"
   },
   {
    "duration": 773,
    "start_time": "2021-12-23T12:28:11.782Z"
   },
   {
    "duration": 81,
    "start_time": "2021-12-23T12:31:18.416Z"
   },
   {
    "duration": 1828,
    "start_time": "2021-12-23T12:36:34.980Z"
   },
   {
    "duration": 310,
    "start_time": "2021-12-23T12:36:36.811Z"
   },
   {
    "duration": 270,
    "start_time": "2021-12-23T12:36:37.124Z"
   },
   {
    "duration": 90,
    "start_time": "2021-12-23T12:36:37.398Z"
   },
   {
    "duration": 810,
    "start_time": "2021-12-23T12:36:37.491Z"
   },
   {
    "duration": 1093,
    "start_time": "2021-12-23T12:36:38.303Z"
   },
   {
    "duration": 704,
    "start_time": "2021-12-23T12:36:39.399Z"
   },
   {
    "duration": 700,
    "start_time": "2021-12-23T12:36:40.106Z"
   },
   {
    "duration": 488,
    "start_time": "2021-12-23T12:36:40.809Z"
   },
   {
    "duration": 18,
    "start_time": "2021-12-23T12:36:41.299Z"
   },
   {
    "duration": 1038,
    "start_time": "2021-12-24T06:39:17.529Z"
   },
   {
    "duration": 155,
    "start_time": "2021-12-24T06:39:18.569Z"
   },
   {
    "duration": 176,
    "start_time": "2021-12-24T06:39:18.727Z"
   },
   {
    "duration": 44,
    "start_time": "2021-12-24T06:39:18.905Z"
   },
   {
    "duration": 656,
    "start_time": "2021-12-24T06:39:18.951Z"
   },
   {
    "duration": -2603,
    "start_time": "2021-12-24T06:39:22.213Z"
   },
   {
    "duration": -2607,
    "start_time": "2021-12-24T06:39:22.218Z"
   },
   {
    "duration": -2608,
    "start_time": "2021-12-24T06:39:22.221Z"
   },
   {
    "duration": -2611,
    "start_time": "2021-12-24T06:39:22.225Z"
   },
   {
    "duration": -2731,
    "start_time": "2021-12-24T06:39:22.347Z"
   },
   {
    "duration": 993,
    "start_time": "2021-12-24T06:41:29.104Z"
   },
   {
    "duration": 140,
    "start_time": "2021-12-24T06:41:30.099Z"
   },
   {
    "duration": 164,
    "start_time": "2021-12-24T06:41:30.241Z"
   },
   {
    "duration": 43,
    "start_time": "2021-12-24T06:41:30.407Z"
   },
   {
    "duration": 488,
    "start_time": "2021-12-24T06:41:30.451Z"
   },
   {
    "duration": 472,
    "start_time": "2021-12-24T06:41:30.941Z"
   },
   {
    "duration": 415,
    "start_time": "2021-12-24T06:41:31.416Z"
   },
   {
    "duration": 438,
    "start_time": "2021-12-24T06:41:31.833Z"
   },
   {
    "duration": 380,
    "start_time": "2021-12-24T06:41:32.273Z"
   },
   {
    "duration": 13,
    "start_time": "2021-12-24T06:41:32.655Z"
   },
   {
    "duration": 1507,
    "start_time": "2021-12-24T06:44:36.848Z"
   },
   {
    "duration": 153,
    "start_time": "2021-12-24T06:44:38.357Z"
   },
   {
    "duration": 144,
    "start_time": "2021-12-24T06:44:38.512Z"
   },
   {
    "duration": 58,
    "start_time": "2021-12-24T06:44:38.658Z"
   },
   {
    "duration": 405,
    "start_time": "2021-12-24T06:44:38.718Z"
   },
   {
    "duration": 409,
    "start_time": "2021-12-24T06:44:39.125Z"
   },
   {
    "duration": 424,
    "start_time": "2021-12-24T06:44:39.535Z"
   },
   {
    "duration": 422,
    "start_time": "2021-12-24T06:44:39.961Z"
   },
   {
    "duration": 27,
    "start_time": "2021-12-24T06:44:40.385Z"
   },
   {
    "duration": 14,
    "start_time": "2021-12-24T06:44:40.414Z"
   },
   {
    "duration": 8,
    "start_time": "2021-12-24T06:47:19.643Z"
   },
   {
    "duration": 7,
    "start_time": "2021-12-24T06:47:47.062Z"
   },
   {
    "duration": 7,
    "start_time": "2021-12-24T06:47:55.547Z"
   },
   {
    "duration": 13,
    "start_time": "2021-12-24T06:49:37.924Z"
   },
   {
    "duration": 12,
    "start_time": "2021-12-24T06:50:23.016Z"
   },
   {
    "duration": 14,
    "start_time": "2021-12-24T06:51:07.700Z"
   },
   {
    "duration": 338,
    "start_time": "2021-12-24T10:32:00.717Z"
   },
   {
    "duration": 1604,
    "start_time": "2021-12-24T10:32:18.611Z"
   },
   {
    "duration": 184,
    "start_time": "2021-12-24T10:32:20.216Z"
   },
   {
    "duration": 143,
    "start_time": "2021-12-24T10:32:20.402Z"
   },
   {
    "duration": 2,
    "start_time": "2021-12-24T10:32:20.547Z"
   },
   {
    "duration": 136,
    "start_time": "2021-12-24T10:32:20.551Z"
   },
   {
    "duration": 56,
    "start_time": "2021-12-24T10:32:20.688Z"
   },
   {
    "duration": 386,
    "start_time": "2021-12-24T10:32:20.746Z"
   },
   {
    "duration": 388,
    "start_time": "2021-12-24T10:32:21.135Z"
   },
   {
    "duration": 389,
    "start_time": "2021-12-24T10:32:21.528Z"
   },
   {
    "duration": 400,
    "start_time": "2021-12-24T10:32:21.919Z"
   },
   {
    "duration": 28,
    "start_time": "2021-12-24T10:32:22.334Z"
   },
   {
    "duration": 12,
    "start_time": "2021-12-24T10:32:22.363Z"
   },
   {
    "duration": 1352,
    "start_time": "2021-12-24T10:34:01.455Z"
   },
   {
    "duration": 1420,
    "start_time": "2021-12-24T10:34:33.226Z"
   },
   {
    "duration": 180,
    "start_time": "2021-12-24T10:34:34.648Z"
   },
   {
    "duration": 127,
    "start_time": "2021-12-24T10:34:34.830Z"
   },
   {
    "duration": 144,
    "start_time": "2021-12-24T10:34:34.960Z"
   },
   {
    "duration": 61,
    "start_time": "2021-12-24T10:34:35.106Z"
   },
   {
    "duration": 379,
    "start_time": "2021-12-24T10:34:35.168Z"
   },
   {
    "duration": 369,
    "start_time": "2021-12-24T10:34:35.548Z"
   },
   {
    "duration": 451,
    "start_time": "2021-12-24T10:34:35.927Z"
   },
   {
    "duration": 464,
    "start_time": "2021-12-24T10:34:36.381Z"
   },
   {
    "duration": 21,
    "start_time": "2021-12-24T10:34:36.847Z"
   },
   {
    "duration": 12,
    "start_time": "2021-12-24T10:34:36.869Z"
   },
   {
    "duration": 1585,
    "start_time": "2021-12-24T11:00:12.643Z"
   },
   {
    "duration": 220,
    "start_time": "2021-12-24T11:00:14.231Z"
   },
   {
    "duration": 130,
    "start_time": "2021-12-24T11:00:14.453Z"
   },
   {
    "duration": 158,
    "start_time": "2021-12-24T11:00:14.585Z"
   },
   {
    "duration": 42,
    "start_time": "2021-12-24T11:00:14.745Z"
   },
   {
    "duration": 367,
    "start_time": "2021-12-24T11:00:14.789Z"
   },
   {
    "duration": 376,
    "start_time": "2021-12-24T11:00:15.157Z"
   },
   {
    "duration": 377,
    "start_time": "2021-12-24T11:00:15.536Z"
   },
   {
    "duration": 387,
    "start_time": "2021-12-24T11:00:15.915Z"
   },
   {
    "duration": 31,
    "start_time": "2021-12-24T11:00:16.303Z"
   },
   {
    "duration": 11,
    "start_time": "2021-12-24T11:00:16.336Z"
   },
   {
    "duration": 1512,
    "start_time": "2021-12-24T14:31:23.469Z"
   },
   {
    "duration": 204,
    "start_time": "2021-12-24T14:31:24.982Z"
   },
   {
    "duration": 142,
    "start_time": "2021-12-24T14:31:25.191Z"
   },
   {
    "duration": 148,
    "start_time": "2021-12-24T14:31:25.335Z"
   },
   {
    "duration": 50,
    "start_time": "2021-12-24T14:31:25.485Z"
   },
   {
    "duration": 388,
    "start_time": "2021-12-24T14:31:25.537Z"
   },
   {
    "duration": 364,
    "start_time": "2021-12-24T14:31:25.927Z"
   },
   {
    "duration": 368,
    "start_time": "2021-12-24T14:31:26.294Z"
   },
   {
    "duration": 379,
    "start_time": "2021-12-24T14:31:26.664Z"
   },
   {
    "duration": 25,
    "start_time": "2021-12-24T14:31:27.045Z"
   },
   {
    "duration": 14,
    "start_time": "2021-12-24T14:31:27.071Z"
   }
  ],
  "kernelspec": {
   "display_name": "Python 3 (ipykernel)",
   "language": "python",
   "name": "python3"
  },
  "language_info": {
   "codemirror_mode": {
    "name": "ipython",
    "version": 3
   },
   "file_extension": ".py",
   "mimetype": "text/x-python",
   "name": "python",
   "nbconvert_exporter": "python",
   "pygments_lexer": "ipython3",
   "version": "3.9.7"
  },
  "toc": {
   "base_numbering": 1,
   "nav_menu": {
    "height": "306px",
    "width": "529px"
   },
   "number_sections": true,
   "sideBar": true,
   "skip_h1_title": true,
   "title_cell": "Содержание",
   "title_sidebar": "Contents",
   "toc_cell": true,
   "toc_position": {},
   "toc_section_display": true,
   "toc_window_display": false
  }
 },
 "nbformat": 4,
 "nbformat_minor": 2
}
